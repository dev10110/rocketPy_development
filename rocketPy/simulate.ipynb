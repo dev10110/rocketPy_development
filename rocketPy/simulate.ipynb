{
 "cells": [
  {
   "cell_type": "code",
   "execution_count": 1,
   "metadata": {},
   "outputs": [],
   "source": [
    "import pint\n",
    "ureg = pint.UnitRegistry()\n",
    "\n",
    "import numpy as np\n",
    "import numpy.linalg as la\n",
    "\n",
    "import scipy as sp\n",
    "\n",
    "import matplotlib.pyplot as plt\n",
    "\n",
    "from fluids.atmosphere import ATMOSPHERE_1976 as atm"
   ]
  },
  {
   "cell_type": "code",
   "execution_count": 2,
   "metadata": {},
   "outputs": [],
   "source": [
    "# utilities\n",
    "def si(v):\n",
    "    \"\"\"Helper function to get si units magnitude on variables using pint\"\"\"\n",
    "\n",
    "    if isinstance(v, type(1*ureg.m)):\n",
    "        return v.to_base_units().magnitude\n",
    "    elif isinstance(v, Quaternion):\n",
    "        return v.q\n",
    "    else:\n",
    "        return v\n",
    "    \n",
    "def quat_to_rot(qq):\n",
    "    \n",
    "    \"\"\"Convert a (np.array) quaternion to a rotation matrix\"\"\"\n",
    "    \n",
    "    qq  = qq[:,0]\n",
    "    \n",
    "    R = np.array([[ 1 - 2*qq[2]**2 - 2*qq[3]**2,  2*qq[1]*qq[2] - 2*qq[0]*qq[3],    2*qq[1]*qq[3] + 2*qq[0]*qq[2]],\n",
    "                     [2*qq[1]*qq[2] + 2*qq[0]*qq[3],    1 - 2*qq[1]**2 - 2*qq[3]**2,    2*qq[2]*qq[3] - 2*qq[0]*qq[1]],\n",
    "                     [2*qq[1]*qq[3] - 2*qq[0]*qq[2],  2*qq[2]*qq[3] + 2*qq[0]*qq[1],     1 - 2*qq[1]**2 - 2*qq[2]**2]])\n",
    "\n",
    "    return R\n",
    "    \n",
    "def unit_vector(v):\n",
    "    \"\"\"Return a unit vector in the direction of v.\"\"\"\n",
    "    return v/la.norm(v)\n",
    "\n",
    "def angle_between(va, vb):\n",
    "    \n",
    "    \"\"\" Return the angle between two column vectors using the dot product\"\"\"\n",
    "    \n",
    "    th = np.arccos(np.dot(unit_vector(va.T), unit_vector(vb)))\n",
    "    \n",
    "    return float(th)\n",
    "    "
   ]
  },
  {
   "cell_type": "code",
   "execution_count": 3,
   "metadata": {},
   "outputs": [],
   "source": [
    "class Quaternion():\n",
    "\n",
    "    \"\"\"Note, does not support Pint units \"\"\"\n",
    "    \n",
    "    def __init__(self, s, vx, vy, vz):\n",
    "        \"\"\" Creates a quaternion. Expects floats\"\"\"\n",
    "        self.q = np.array([[s, vx, vy, vz]]).T\n",
    "    \n",
    "    @classmethod\n",
    "    def from_angle(cls, theta, axis):\n",
    "        \"\"\"A rotation of angle `theta` about the axis `ax, ay, az`. Allows the axis to be not normalized\"\"\"\n",
    "        \n",
    "        axis = unit_vector(axis)\n",
    "        \n",
    "        s = np.cos(theta/2)\n",
    "        v = np.sin(theta/2)*axis        \n",
    "\n",
    "        return cls(s, *v)\n",
    "    \n",
    "        \n",
    "    def rot_matrix(self, qq=None):\n",
    "        \n",
    "        if qq is None:\n",
    "            qq = self.q\n",
    "            \n",
    "        return quat_to_rot(qq)\n",
    "    \n",
    "    \n",
    "    def __repr__(self):\n",
    "        return str(self.q)\n",
    "        \n",
    "    "
   ]
  },
  {
   "cell_type": "code",
   "execution_count": 4,
   "metadata": {},
   "outputs": [
    {
     "data": {
      "text/plain": [
       "[[0.99862953]\n",
       " [0.        ]\n",
       " [0.05233596]\n",
       " [0.        ]]"
      ]
     },
     "execution_count": 4,
     "metadata": {},
     "output_type": "execute_result"
    }
   ],
   "source": [
    "q = Quaternion.from_angle(6.0*np.pi/180.0, np.array([0,1,0]))\n",
    "q"
   ]
  },
  {
   "cell_type": "code",
   "execution_count": 57,
   "metadata": {},
   "outputs": [],
   "source": [
    "class Rocket():\n",
    "    \n",
    "    def __init__(self):\n",
    "    \n",
    "        self.T_max = 1000*ureg.N\n",
    "        \n",
    "        self.M_0 = 40*ureg.kg # wet mass of rocket\n",
    "        self.M_d = 20*ureg.kg # dry mass of rocket\n",
    "        \n",
    "        self.I_normal = 50*ureg.kg*ureg.m**2\n",
    "        self.I_axial  = 0.05*ureg.kg*ureg.m**2\n",
    "        \n",
    "        self.ref_length = 4.0*ureg.m\n",
    "        self.diameter = 6*ureg.inch\n",
    "        \n",
    "        self.fin_height = 6*ureg.inch\n",
    "        self.fin_count = 4\n",
    "        self.fin_cant = 0.05*ureg.rad\n",
    "        \n",
    "        pass\n",
    "    \n",
    "    def get_thrust(self, t, state):\n",
    "        \"\"\"Return the thrust at current time using current time and state vector, used for simulator.\"\"\"\n",
    "        \n",
    "        if t < 10*u.s:\n",
    "            return self.T_max\n",
    "        else:\n",
    "            return 0*ureg.N\n",
    "        \n",
    "    def rate_I_axial(self, t, state):\n",
    "        \"\"\"Rate of change of \"\"\"\n",
    "        pass\n",
    "    \n",
    "    def get_xcp(self, alpha, Re, Mach):\n",
    "        \n",
    "        return 2.5*ureg.m\n",
    "    \n",
    "    def get_xcm(self, mass):\n",
    "        \n",
    "        return 2.0*ureg.m\n",
    "    \n",
    "    def get_fin_locations(self):\n",
    "        \n",
    "        th0 = 0*ureg.degree\n",
    "        dth = 2*np.pi*ureg.rad / self.fin_count\n",
    "        r = self.diameter/2 + self.fin_height/2\n",
    "        \n",
    "        for i in range(self.fin_count):\n",
    "            th = th0+i*dth\n",
    "            \n",
    "            x=r*np.cos(th)\n",
    "            y=r*np.sin(th)\n",
    "            z=self.ref_length\n",
    "            yield np.array([si(xx) for xx in [x,y,z]])*ureg.m\n",
    "            \n",
    "    def get_fin_axes(self, roll_axis_in_earth):\n",
    "        \n",
    "        for loc in self.get_fin_locations(): #gets me the x,y,z. I only need the x,y components\n",
    "        \n",
    "            fin_direction = unit_vector(np.array([[si(loc[0]), si(loc[1]), 0.0]]).T)\n",
    "            \n",
    "            fin_normal = np.cross(fin_direction, roll_axis_in_earth, axis=0)\n",
    "            \n",
    "            fin_quat = Quaternion.from_angle(self.fin_cant, fin_axis)\n",
    "            \n",
    "            \n",
    "            \n",
    "            \n",
    "        \n",
    "        \n",
    "        \n",
    "        \n",
    "    \n",
    "class Fin():\n",
    "    \n",
    "    def __init__(self, root_chord=12*ureg.inch, tip_chord=6*ureg.inch, height=6*ureg.inch, leading_edge_sweep=5*ureg.inch, loc_of_trailing_egde_root=[0*ureg.inch, 0*ureg.degree]):\n",
    "        \n",
    "        self.root_chord=root_chord\n",
    "        self.tip_chord=tip_chord\n",
    "        self.height=height\n",
    "        self.leading_edge_sweep=leading_edge_sweep\n",
    "        self.loc_of_trailing_egde_root=loc_of_trailing_egde_root\n",
    "        \n",
    "    def get_cp_location(self, body_diameter=6*ureg.inch):\n",
    "        # return body axis loction of cp\n",
    "        \n",
    "        #todo: implement correctly\n",
    "        \n",
    "        r = body_diameter/2 + self.height/2\n",
    "        z = 0\n",
    "        th=self.loc_of_trailing_egde_root[-1]\n",
    "        \n",
    "        return [r,z,th]\n",
    "        \n",
    "        \n",
    "        "
   ]
  },
  {
   "cell_type": "code",
   "execution_count": 58,
   "metadata": {},
   "outputs": [],
   "source": [
    "rocket = Rocket()"
   ]
  },
  {
   "cell_type": "code",
   "execution_count": 65,
   "metadata": {},
   "outputs": [
    {
     "data": {
      "text/plain": [
       "[array([-0.1524,  0.    , -2.    ]),\n",
       " array([-9.33180861e-18, -1.52400000e-01, -2.00000000e+00]),\n",
       " array([ 1.52400000e-01, -1.86636172e-17, -2.00000000e+00]),\n",
       " array([ 2.79954258e-17,  1.52400000e-01, -2.00000000e+00])]"
      ]
     },
     "execution_count": 65,
     "metadata": {},
     "output_type": "execute_result"
    }
   ],
   "source": [
    "[-si(f)+[0, 0, si(rocket.get_xcm(5))] for f in list(rocket.get_fin_locations())]"
   ]
  },
  {
   "cell_type": "code",
   "execution_count": 60,
   "metadata": {},
   "outputs": [
    {
     "data": {
      "text/html": [
       "\\[\\begin{pmatrix}0.0 & 0.0 & 2.0\\end{pmatrix} meter\\]"
      ],
      "text/latex": [
       "$\\begin{pmatrix}0.0 & 0.0 & 2.0\\end{pmatrix}\\ \\mathrm{meter}$"
      ],
      "text/plain": [
       "array([0., 0., 2.]) <Unit('meter')>"
      ]
     },
     "execution_count": 60,
     "metadata": {},
     "output_type": "execute_result"
    }
   ],
   "source": [
    "[0, 0, si(rocket.get_xcm(5))]*ureg.m"
   ]
  },
  {
   "cell_type": "code",
   "execution_count": 48,
   "metadata": {},
   "outputs": [
    {
     "data": {
      "text/html": [
       "2.0 meter"
      ],
      "text/latex": [
       "$2.0\\ \\mathrm{meter}$"
      ],
      "text/plain": [
       "2.0 <Unit('meter')>"
      ]
     },
     "execution_count": 48,
     "metadata": {},
     "output_type": "execute_result"
    }
   ],
   "source": [
    "rocket.get_xcm(5)"
   ]
  },
  {
   "cell_type": "code",
   "execution_count": 86,
   "metadata": {},
   "outputs": [
    {
     "name": "stdout",
     "output_type": "stream",
     "text": [
      "0.15239999999999998\n",
      "9.331808609502831e-18\n",
      "-0.15239999999999998\n",
      "-2.7995425828508496e-17\n"
     ]
    }
   ],
   "source": [
    "for loc in rocket.get_fin_locations():\n",
    "    print(si(loc[0]))"
   ]
  },
  {
   "cell_type": "code",
   "execution_count": 78,
   "metadata": {},
   "outputs": [],
   "source": [
    "class Environment():\n",
    "    \n",
    "    def __init__(self):\n",
    "        \n",
    "        # define constants\n",
    "        self.gamma = 1.4 * ureg(\"\")\n",
    "        self.R = 287*ureg.J/ureg.kg/ureg.degK\n",
    "        self.ref_temp = 291.15*ureg.degK\n",
    "        self.ref_visc = 1.827e-7*ureg.Pa/ureg.s\n",
    "        self.M_earth = 5.974e24*ureg.kg\n",
    "        self.R_earth = 6378100*ureg.m\n",
    "        self.G = 6.673e-11*ureg.m**3/ureg.kg/ureg.s\n",
    "        self.g_0 = 9.81*ureg.m/ureg.s**2\n",
    "        self.rho_0 = 1.225*ureg.kg/ureg.m**3\n",
    "           \n",
    "    def get_rho(self, z):\n",
    "        \n",
    "        try:\n",
    "            return atm(z).rho #return in si\n",
    "        except:\n",
    "            return atm((z.to(ureg.m)).magnitude).rho*ureg.kg/ureg.m**3\n",
    "    \n",
    "    def get_mu(self, z):\n",
    "        \n",
    "        try:\n",
    "            return atm(z).mu #return in si\n",
    "        except:\n",
    "            return atm((z.to(ureg.m)).magnitude).mu*ureg.Pa*ureg.s\n",
    "\n",
    "    def get_temp(self, z):\n",
    "        \n",
    "        try:\n",
    "            return atm(z).T #return in si\n",
    "        except:\n",
    "            return atm((z.to(ureg.m)).magnitude).T*ureg.degK\n",
    "    \n",
    "    def get_speed_of_sound(self, z):\n",
    "        \n",
    "        try:\n",
    "            return atm(z).v_sonic#return in si\n",
    "        except:\n",
    "            return atm((z.to(ureg.m)).magnitude).v_sonic*ureg.m/ureg.s\n",
    "        \n",
    "    def frozen_wind(t, state):\n",
    "        \n",
    "        # function to describe the wind vector (in earth frame) as a function of time or state\n",
    "        \n",
    "        return np.array([[1,0,0]]).T\n",
    "\n",
    "    "
   ]
  },
  {
   "cell_type": "code",
   "execution_count": 79,
   "metadata": {},
   "outputs": [],
   "source": [
    "env = Environment()"
   ]
  },
  {
   "cell_type": "code",
   "execution_count": null,
   "metadata": {},
   "outputs": [],
   "source": []
  },
  {
   "cell_type": "code",
   "execution_count": null,
   "metadata": {},
   "outputs": [],
   "source": []
  },
  {
   "cell_type": "code",
   "execution_count": 9,
   "metadata": {},
   "outputs": [],
   "source": [
    "class State():\n",
    "    \n",
    "    def __init__(self, pos, quaternion, lin_mom, ang_mom, mass, inertia):\n",
    "        \n",
    "        self.pos = pos\n",
    "        self.quat = quaternion\n",
    "        self.lin_mom = lin_mom\n",
    "        self.ang_mom = ang_mom\n",
    "        self.mass = mass\n",
    "        self.inertia = inertia\n",
    "        \n",
    "        self.inertia_matrix = self.get_inertia_matrix(inertia)\n",
    "        \n",
    "        self.state = [self.pos, self.quat, self.lin_mom, self.ang_mom, self.mass, self.inertia]\n",
    "        \n",
    "        return\n",
    "    \n",
    "    def get_state_vector(self):\n",
    "        \n",
    "        return np.vstack([si(s) for s in self.state])\n",
    "    \n",
    "    def get_inertia_matrix(self, inertia):\n",
    "        \"\"\"Convert I_axial, I_normal to inertia matrix\"\"\"\n",
    "        if inertia is None:\n",
    "            inertia = self.inertia\n",
    "            \n",
    "        I_normal = inertia[0][0]\n",
    "        I_axial  = inertia[1][0]\n",
    "        inertia_matrix =  np.diagflat([si(I_normal), si(I_normal), si(I_axial)])*ureg.kg*ureg.m**2\n",
    "            \n",
    "        return inertia_matrix\n",
    "    \n",
    "    def __repr__(self):\n",
    "        \n",
    "        return repr(self.state)\n",
    "        \n",
    "    "
   ]
  },
  {
   "cell_type": "code",
   "execution_count": 10,
   "metadata": {},
   "outputs": [],
   "source": [
    "pos = np.array([[0,0,0]]).T*ureg.m\n",
    "#quat = q\n",
    "lin_mom = np.array([[1,0,0]]).T*ureg.kg*ureg.m/ureg.s\n",
    "ang_mom = np.array([[0,70,1000]]).T*ureg.kg*ureg.m**2/ureg.s\n",
    "mass = 40*ureg.kg\n",
    "inertia = np.array([[50,0.01]]).T*ureg.kg*ureg.m**2\n",
    "state = State(pos, q, lin_mom, ang_mom, mass, inertia)"
   ]
  },
  {
   "cell_type": "code",
   "execution_count": 11,
   "metadata": {},
   "outputs": [
    {
     "data": {
      "text/plain": [
       "array([[0.00000000e+00],\n",
       "       [0.00000000e+00],\n",
       "       [0.00000000e+00],\n",
       "       [9.98629535e-01],\n",
       "       [0.00000000e+00],\n",
       "       [5.23359562e-02],\n",
       "       [0.00000000e+00],\n",
       "       [1.00000000e+00],\n",
       "       [0.00000000e+00],\n",
       "       [0.00000000e+00],\n",
       "       [0.00000000e+00],\n",
       "       [7.00000000e+01],\n",
       "       [1.00000000e+03],\n",
       "       [4.00000000e+01],\n",
       "       [5.00000000e+01],\n",
       "       [1.00000000e-02]])"
      ]
     },
     "execution_count": 11,
     "metadata": {},
     "output_type": "execute_result"
    }
   ],
   "source": [
    "state.get_state_vector()"
   ]
  },
  {
   "cell_type": "code",
   "execution_count": 12,
   "metadata": {},
   "outputs": [
    {
     "data": {
      "text/html": [
       "\\[\\begin{pmatrix}50.0 & 0.0 & 0.0\\\\ \n",
       "0.0 & 50.0 & 0.0\\\\ \n",
       "0.0 & 0.0 & 0.01\\end{pmatrix} kilogram meter<sup>2</sup>\\]"
      ],
      "text/latex": [
       "$\\begin{pmatrix}50.0 & 0.0 & 0.0\\\\ \n",
       "0.0 & 50.0 & 0.0\\\\ \n",
       "0.0 & 0.0 & 0.01\\end{pmatrix}\\ \\mathrm{kilogram} \\cdot \\mathrm{meter}^{2}$"
      ],
      "text/plain": [
       "array([[5.e+01, 0.e+00, 0.e+00],\n",
       "       [0.e+00, 5.e+01, 0.e+00],\n",
       "       [0.e+00, 0.e+00, 1.e-02]]) <Unit('kilogram * meter ** 2')>"
      ]
     },
     "execution_count": 12,
     "metadata": {},
     "output_type": "execute_result"
    }
   ],
   "source": [
    "state.inertia_matrix"
   ]
  },
  {
   "cell_type": "code",
   "execution_count": 74,
   "metadata": {},
   "outputs": [],
   "source": [
    "class Simulation():\n",
    "    \n",
    "    def __init__(self, rocket, environment):\n",
    "        \n",
    "        self.rocket = rocket\n",
    "        self.env = environment\n",
    "        \n",
    "        self.ref_axis_Y = np.array([[1,0,0]]).T # yaw axis\n",
    "        self.ref_axis_P = np.array([[0,1,0]]).T # pitch axis\n",
    "        self.ref_axis_R = np.array([[0,0,1]]).T # roll axis\n",
    "        \n",
    "        return\n",
    "        \n",
    "    def set_initial_state(self, state):\n",
    "        #state of the rocket is described by \n",
    "        # position (x,y,z), orientation quaternion (s, vx, vy, vz), Linear momentum (Px, Py, Pz), angular Momentum (Lx, Ly, Lz), mass (M), inertias (I_axial, I_normal)\n",
    "        \n",
    "        self.state = state\n",
    "        self.initial_state = state\n",
    "        \n",
    "        return\n",
    "    \n",
    "    def dynamics(self, t, state):\n",
    "        \n",
    "        # take in time, state (assuming SI), return the rate of change of states in si. the noise and wind is added internally.\n",
    "        \n",
    "        \n",
    "        pos, quat, R, lin_mom, ang_mom, mass, inertia_matrix = self.extract_states(state)\n",
    "        RA = R @ self.ref_axis_R # roll axis\n",
    "        \n",
    "        # calculate rate of change of position: linear velocity\n",
    "        lin_vel = lin_mom/mass\n",
    "\n",
    "        # note, R is from earth to body\n",
    "        # calculate rate of change of quaternion\n",
    "        ang_vel = R @ la.inv(inertia_matrix) @ R.T @ ang_mom\n",
    "        \n",
    "        # calculate quaternion derivative\n",
    "        qdot = self.get_qdot(quat, lin_vel, ang_vel)\n",
    "        \n",
    "        # compute wind\n",
    "        wind = env.frozen_wind(t, state)\n",
    "        \n",
    "        # calculate angle of attack, re, mach, vcm, vinfty using V_cm\n",
    "        \n",
    "        V_cm = lin_vel + wind\n",
    "        \n",
    "        \n",
    "        # calculate all these parameters, automatically performing convergence as necessary\n",
    "        alpha, re, mach, xbar, V_omega, V_infty = self.calc_parameters_converged(V_cm, R, RA, pos, mass, ang_vel)\n",
    "        \n",
    "        # calculate fins\n",
    "        #get fin locations\n",
    "        fin_loc_relative = [-si(f)+[0, 0, si(rocket.get_xcm(5))] for f in list(rocket.get_fin_locations())]\n",
    "        # apply rotation\n",
    "        fin_arm = [-R@fin_loc for fin_loc in fin_loc_relative]\n",
    "        \n",
    "        #velocity at fin:\n",
    "        V_fin = [V_cm + np.cross(arm, ang_vel, axis=0) for arm in fin_arm]\n",
    "        \n",
    "        #\n",
    "        \n",
    "        \n",
    "        \n",
    "        \n",
    "        \n",
    "        # calculate forces:\n",
    "        F_thrust = R.T @ self.get_thrust_force(t, state)\n",
    "        \n",
    "        F_gravity = mass * self.get_gravitational_accel(pos)\n",
    "        \n",
    "        # calculate qinfty\n",
    "        z = state[3]\n",
    "        q_infty = 0.5*env.get_rho(z)*V_infty.dot(V_infty)\n",
    "        \n",
    "        F_axial = 0 #TODO: Define the function here\n",
    "\n",
    "        total_force = F_thrust + F_gravity# + F_axial + F_normal\n",
    "        \n",
    "        \n",
    "        #calculate total \n",
    "        \n",
    "        \n",
    "\n",
    "    def calc_parameters_converged(self, V_cm, R, RA, pos, mass, ang_vel):\n",
    "        if la.norm(ang_vel) < 0.1:\n",
    "            \n",
    "            return self.calc_parameters(V_cm, V_cm, R, RA, pos, mass, ang_vel)\n",
    "\n",
    "        else:\n",
    "            #calculate using V_cm\n",
    "            alpha_old, re, mach, xbar, V_omega, V_infty = self.calc_parameters(V_cm, V_cm, R, RA, pos, mass, ang_vel)\n",
    "\n",
    "            # calculate new alpha\n",
    "            alpha, re, mach, xbar, V_omega, V_infty = self.calc_parameters(V_infty, V_cm, R, RA, pos, mass, ang_vel)\n",
    "\n",
    "\n",
    "            # if the difference is large, re-estimate\n",
    "            while abs(alpha_old - alpha) > 1e-6:\n",
    "\n",
    "                alpha_old = alpha\n",
    "                alpha, re, mach, xbar, V_omega, V_infty = self.calc_parameters(V_infty, V_cm, R, RA, pos, mass, ang_vel)\n",
    "\n",
    "\n",
    "        return alpha, re, mach, xbar, V_omega, V_infty \n",
    "        \n",
    "    def calc_parameters(self, V_infty, V_cm, R, RA, pos, mass, ang_vel):\n",
    "        # note, V_infty here is a guess, but the corrected value comes out of the function\n",
    "            \n",
    "        alpha = self.calc_alpha(V_infty, RA) #using V_cm as an approximation for V_infty\n",
    "        \n",
    "        z = pos[2][0]\n",
    "        re = self.calc_Re(la.norm(V_infty), z)\n",
    "        mach = self.calc_Mach(la.norm(V_infty), z)\n",
    "\n",
    "        xbar = abs(self.rocket.get_xcp(alpha, re, mach) - self.rocket.get_xcm(mass)).to(ureg.m).magnitude\n",
    "        \n",
    "        V_omega = xbar * np.sin(angle_between(RA, ang_vel)) * np.cross(RA, ang_vel, axis=0)# linear speed at the center of pressure due to the rotation rate of the rocket\n",
    "\n",
    "        V_infty = V_cm + V_omega\n",
    "\n",
    "        return alpha, re, mach, xbar, V_omega, V_infty\n",
    "\n",
    "    def calc_Re(self, Vinf, z):\n",
    "        \"\"\"Calculate reynolds number for a given vinf and altitude z\"\"\"\n",
    "        \n",
    "        rho = self.env.get_rho(z)\n",
    "        mu  = self.env.get_mu(z)\n",
    "        \n",
    "        X = (self.rocket.ref_length.to(ureg.m)).magnitude #using the ref length used for coefficient calculation\n",
    "        \n",
    "        Re = rho*Vinf*X/mu\n",
    "        \n",
    "        return Re\n",
    "        \n",
    "        \n",
    "    def calc_Mach(self, Vinf, z):\n",
    "        \n",
    "        a = self.env.get_speed_of_sound(z)\n",
    "        \n",
    "        return Vinf/a\n",
    "    \n",
    "    def calc_alpha(self, Vinf, RA):\n",
    "        \"\"\"Calc alpha for a given wind speed Vinf and roll axis RA\"\"\"\n",
    "        \n",
    "        return angle_between(Vinf, RA)\n",
    "        \n",
    "        \n",
    "\n",
    "    def get_gravitational_accel(self, pos):\n",
    "        \n",
    "        # todo: possibly include earth radius\n",
    "        g = 9.81\n",
    "        \n",
    "        return np.array([[0,0,-g]]).T\n",
    "                              \n",
    "        \n",
    "    def get_thrust_force(self, t, state):\n",
    "        \n",
    "        \"\"\"Wrapper for providing thrust. Must return vector of thrust direction in body axis\"\"\"\n",
    "        \n",
    "        if t<10:\n",
    "            thrust = si(self.rocket.T_max)\n",
    "        else:\n",
    "            thrust = 0\n",
    "            \n",
    "        # convert to axis\n",
    "        roll_axis = np.array([[0,0,1]]).T\n",
    "        \n",
    "        \n",
    "        return thrust*roll_axis\n",
    "        \n",
    "        \n",
    "        \n",
    "    def extract_states(self, state):\n",
    "        \n",
    "        pos = state[0:3]\n",
    "        quat = state[3:7]\n",
    "        R = self.rotation_matrix(quat)\n",
    "        lin_mom = state[7:10]\n",
    "        ang_mom = state[10:13]\n",
    "        mass = state[13]\n",
    "        inertia = state[14:16]\n",
    "        \n",
    "        inertia_matrix = self.inertia_matrix(*inertia)\n",
    "        \n",
    "        return pos, quat, R, lin_mom, ang_mom, mass, inertia_matrix\n",
    "        \n",
    "   \n",
    "    def get_qdot(self, quat, lin_vel, ang_vel):\n",
    "\n",
    "        \"\"\"Compute the rate of change of the quaternion\"\"\"\n",
    "        s = quat[0][0]\n",
    "        sdot = 0.5 * float( np.dot(ang_vel.T, lin_vel))\n",
    "        vdot = 0.5 * s*ang_vel + np.cross(ang_vel, ang_vel,axis=0)\n",
    "        qdot =  np.vstack([sdot, vdot])\n",
    "        return qdot\n",
    "        \n",
    "        \n",
    "    \n",
    "    def rotation_matrix(self,qq):\n",
    "        \n",
    "        qq = qq[:,0]\n",
    "        \n",
    "        \"\"\"Return the rotation matrix associated with a quaternion qq\"\"\"\n",
    "        R = np.array([[1 - 2*qq[2]**2 - 2*qq[3]**2,   2*qq[1]*qq[2] - 2*qq[0]*qq[3],    2*qq[1]*qq[3] + 2*qq[0]*qq[2]],\n",
    "                     [2*qq[1]*qq[2] + 2*qq[0]*qq[3],    1 - 2*qq[1]**2 - 2*qq[3]**2,    2*qq[2]*qq[3] - 2*qq[0]*qq[1]],\n",
    "                     [2*qq[1]*qq[3] - 2*qq[0]*qq[2],  2*qq[2]*qq[3] + 2*qq[0]*qq[1],     1 - 2*qq[1]**2 - 2*qq[2]**2]])\n",
    "\n",
    "        return R\n",
    "    \n",
    "    def inertia_matrix(self, I_normal, I_axial):\n",
    "        \"\"\"Convert I_normal, I_axial to 3x3 inertia matrix\"\"\"\n",
    "        \n",
    "        return np.diagflat([I_normal, I_normal, I_axial])\n",
    "\n",
    "\n",
    "        "
   ]
  },
  {
   "cell_type": "code",
   "execution_count": 75,
   "metadata": {},
   "outputs": [],
   "source": [
    "sim = Simulation(rocket, env)"
   ]
  },
  {
   "cell_type": "code",
   "execution_count": 76,
   "metadata": {},
   "outputs": [],
   "source": [
    "state.get_state_vector();"
   ]
  },
  {
   "cell_type": "code",
   "execution_count": 77,
   "metadata": {
    "scrolled": false
   },
   "outputs": [
    {
     "name": "stdout",
     "output_type": "stream",
     "text": [
      "[array([[-1.73735911e+00],\n",
      "       [-1.51606948e+04],\n",
      "       [ 5.04870889e-01]]), array([[ 1.50717584e+04],\n",
      "       [-4.18113853e+00],\n",
      "       [-1.58367755e+03]]), array([[-1.78196350e+00],\n",
      "       [ 1.51523325e+04],\n",
      "       [ 8.04885056e-02]]), array([[-1.50752777e+04],\n",
      "       [-4.18113853e+00],\n",
      "       [ 1.58426291e+03]])]\n"
     ]
    }
   ],
   "source": [
    "ans = sim.dynamics(0, state.get_state_vector())"
   ]
  },
  {
   "cell_type": "code",
   "execution_count": 17,
   "metadata": {},
   "outputs": [],
   "source": [
    "ans"
   ]
  },
  {
   "cell_type": "code",
   "execution_count": null,
   "metadata": {},
   "outputs": [],
   "source": []
  },
  {
   "cell_type": "code",
   "execution_count": null,
   "metadata": {},
   "outputs": [],
   "source": []
  },
  {
   "cell_type": "code",
   "execution_count": null,
   "metadata": {},
   "outputs": [],
   "source": []
  }
 ],
 "metadata": {
  "kernelspec": {
   "display_name": "Python 3",
   "language": "python",
   "name": "python3"
  },
  "language_info": {
   "codemirror_mode": {
    "name": "ipython",
    "version": 3
   },
   "file_extension": ".py",
   "mimetype": "text/x-python",
   "name": "python",
   "nbconvert_exporter": "python",
   "pygments_lexer": "ipython3",
   "version": "3.6.7"
  }
 },
 "nbformat": 4,
 "nbformat_minor": 2
}
