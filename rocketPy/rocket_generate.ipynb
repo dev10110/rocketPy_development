{
 "cells": [
  {
   "cell_type": "code",
   "execution_count": 1,
   "metadata": {},
   "outputs": [],
   "source": [
    "import numpy as np\n",
    "\n",
    "import pint\n",
    "ureg = pint.UnitRegistry(system='mks')\n",
    "\n",
    "import matplotlib.pyplot as plt\n",
    "from matplotlib.patches import Polygon\n",
    "\n",
    "from collections.abc import Iterable\n"
   ]
  },
  {
   "cell_type": "code",
   "execution_count": 2,
   "metadata": {},
   "outputs": [],
   "source": [
    "def si(v):\n",
    "    \n",
    "    return v.to_base_units().magnitude"
   ]
  },
  {
   "cell_type": "code",
   "execution_count": 3,
   "metadata": {},
   "outputs": [],
   "source": [
    "class Rocket():\n",
    "    \n",
    "    def __init__(self, name='Rocket'):\n",
    "\n",
    "        self.name = name\n",
    "            \n",
    "        \n",
    "        self.components = []\n",
    "        \n",
    "        self.body_tube = None\n",
    "        self.boat_tail = None\n",
    "        self.fins = None\n",
    "        self.nose_cone = None\n",
    "        \n",
    "        return\n",
    "    \n",
    "    def __repr__(self):\n",
    "        return f'{self.name}'\n",
    "     \n",
    "    def add(self, component):\n",
    "        \n",
    "        if isinstance(component, Iterable):\n",
    "            component = [comp for comp in component if comp not in self.components]\n",
    "            self.components.extend(component)\n",
    "        else:\n",
    "            if component not in self.components:\n",
    "                self.components.append(component)\n",
    "            \n",
    "        return None\n",
    "    \n",
    "    def set_boat_tail(self, component):\n",
    "        \n",
    "        \"\"\"Set the boat tail component\"\"\"\n",
    "        \n",
    "        if component in self.components:\n",
    "            # find the boat tail in the list of components\n",
    "            boat_tail = [comp for comp in self.components if component == comp][0]\n",
    "        else:\n",
    "            boat_tail = component\n",
    "            self.add(component)\n",
    "            \n",
    "        self.boat_tail = boat_tail\n",
    "        \n",
    "        return None\n",
    "    \n",
    "    def set_fins(self, component):\n",
    "        \n",
    "        \"\"\"Set the fin set of the rocket\"\"\"\n",
    "        \n",
    "        if component in self.components:\n",
    "            # find the fins in the list of components\n",
    "            fins = [comp for comp in self.components if component == comp][0]\n",
    "        else:\n",
    "            fins = component\n",
    "            self.add(fins)\n",
    "\n",
    "        self.fins = fins\n",
    "        return None\n",
    "    \n",
    "    def set_nose_cone(self, component):\n",
    "        \n",
    "        \"\"\"Set the nose cone of the rocket\"\"\"\n",
    "        \n",
    "        if component in self.components:\n",
    "        \n",
    "            # find the nc in the list of components\n",
    "            nc = [comp for comp in self.components if component == comp][0]\n",
    "        else:\n",
    "            nc = component\n",
    "            self.add(nc)\n",
    "\n",
    "        self.nose_cone = nc\n",
    "        \n",
    "        return None\n",
    "    \n",
    "    def set_body_tube(self, component):\n",
    "        \n",
    "        \"\"\"Set the body tube of the rocket\"\"\"\n",
    "        \n",
    "        if component in self.components:\n",
    "        \n",
    "            # find the body tube in the list of components\n",
    "            bt = [comp for comp in self.components if component == comp][0]\n",
    "        else:\n",
    "            bt = component\n",
    "            self.add(bt)\n",
    "\n",
    "        self.body_tube = bt\n",
    "        \n",
    "        return None\n",
    "        \n",
    "        \n",
    "    def plot(self, ax=None,plot_component_cp=False):\n",
    "        \n",
    "        if not ax:\n",
    "            ax = plt.gca()\n",
    "            \n",
    "        for comp in self.components:\n",
    "            comp.plot()\n",
    "            if plot_component_cp:\n",
    "                plt.plot(si(comp.pos()+comp.xcp()), 0, 'kx')\n",
    "            \n",
    "        # plot xcp\n",
    "        plt.plot(si(self.xcp()), 0, 'rx')\n",
    "            \n",
    "        plt.axis('equal')\n",
    "        plt.grid()\n",
    "        \n",
    "        return None\n",
    "    \n",
    "    def length(self):\n",
    "        return sum(comp.length for comp in self.components)\n",
    "        \n",
    "        \n",
    "    def CNa(self, alpha=0*ureg.rad, Re=1e6, Mach=0.3):\n",
    "        \n",
    "        CNa = sum(comp.CNa(alpha, Re, Mach) for comp in self.components)\n",
    "        \n",
    "        return CNa\n",
    "    \n",
    "    def CN(self, alpha=0*ureg.rad, Re=1e6, Mach=0.3):\n",
    "        \n",
    "        return self.CNa(alpha, Re, Mach) * alpha\n",
    "        \n",
    "    def xcp(self, alpha=0*ureg.rad, Re=1e6, Mach=0.3):\n",
    "        \n",
    "        xcp = sum(comp.CNa(alpha, Re, Mach) * (comp.pos() + comp.xcp(alpha, Re, Mach)) for comp in self.components) / self.CNa(alpha, Re, Mach)\n",
    "        \n",
    "        return xcp\n",
    "    \n",
    "    def CD(self, alpha=0*ureg.rad, Re=1e6, Mach=0.3):\n",
    "        \"\"\"Calculate the drag force at some angle of attack, including compressibility\"\"\"\n",
    "        \n",
    "        CD0 = self.CD0(Re)\n",
    "        CD_body_alpha = self.CD_body_alpha(alpha)\n",
    "        CD_fin_alpha = self.CD_fin_alpha(alpha)\n",
    "        \n",
    "        CD = CD0 + CD_body_alpha + CD_fins_alpha\n",
    "        \n",
    "        return CD\n",
    "    \n",
    "    def CD_body_alpha(self, alpha=0*ureg.rad):\n",
    "        \n",
    "        def delta(alpha):\n",
    "            # in radians (by fitting to Fig. 4 of Box 2009)\n",
    "            # collected raw data: (alpha (deg), delta) = {{4, 0.780021417}, {6, 0.857352918}, {8, 0.92048524}, {10, 0.940041875}, {12, 0.960026851}, {16, 0.975050746}, {18, 0.980015024}}\n",
    "            return 1 - 0.518535*np.exp(-0.00378764*alpha)\n",
    "        \n",
    "        def eta(alpha):\n",
    "            # in radians\n",
    "            return 0.259348*alpha**0.153029\n",
    "        \n",
    "        l_TR = self.length()\n",
    "        l_n = self.nose_cone.length\n",
    "        alpha = alpha.to(ureg.rad).magnitude # ensure its in radians\n",
    "        \n",
    "        # maximum body diameter of rocket\n",
    "        d_b = max([comp.diameter for comp in self.components if type(comp) is BodyTube])\n",
    "        \n",
    "        \n",
    "        CD_body_alpha = 2*delta(alpha)*alpha**2 + (3.6 * eta(alpha) * ((1.36 * l_TR - 0.55* l_n))/(np.pi * d_b)) * alpha**3\n",
    "        \n",
    "        return CD_body_alpha\n",
    "    \n",
    "    def CD_fin_alpha(self, alpha):\n",
    "        \n",
    "        alpha = alpha.to(ureg.rad).magnitude #ensure its in radians\n",
    "        \n",
    "        A_fp = self.fins.planform_area\n",
    "        A_fe = self.fins.exposed_area\n",
    "        d_f = self.fins.tube_dia\n",
    "        l_TS = d_f + 2*self.fins.span # total fin span\n",
    "        n = self.fins.n\n",
    "        \n",
    "        Rs = l_TS/d_f\n",
    "        \n",
    "        k_fb = 0.8065*Rs**2 + 1.1553*Rs\n",
    "        k_bf = 0.1935*Rs**2 + 0.8174*Rs + 1\n",
    "        \n",
    "        \n",
    "        #TODO: check this equation (eqn. 50 in Box 2009) - the typography seems odd\n",
    "        CD_falpha = alpha**2 * ((1.2 * n* A_fp) / (np.pi * d_f**2) + 3.12*(k_fb + k_bf - 1)*(n * A_fe)/(np.pi * d_f**2))\n",
    "        \n",
    "        return CD_falpha\n",
    "        \n",
    "    def CD0(self, Re=1e6):\n",
    "        \"\"\"Calcualte the zero angle-of-attack incompressible drag of the rocket. \n",
    "        Generally uses DATCOM method (as specified by Box [1])\n",
    "        Reynolds number refers to the reynolds number by the length of the rocket. \"\"\"\n",
    "        \n",
    "        CD0_fb = self.CD0_fb(Re)\n",
    "        CD0_b  = self.CD0_b(Re)\n",
    "        CD0_f  = self.CD0_f(Re)\n",
    "        \n",
    "        return CD0_fb + CD0_b + CD0_f\n",
    "    \n",
    "    def CD0_fb(self, Re=1e6):\n",
    "        \"\"\"Calcualte the zero-angle of attack drag due to forebody of the rocket\"\"\"\n",
    "        \n",
    "        #total length of the rocket\n",
    "        l_TR = self.length()\n",
    "        \n",
    "        if self.boat_tail is not None:\n",
    "            # length of the boat tail\n",
    "            l_c = self.boat_tail.length\n",
    "            # diameter at boat tail\n",
    "            d_d = self.boat_tail.aft_dia\n",
    "        else:\n",
    "            l_c = 0*ureg.m;\n",
    "            d_d = 0*ureg.m;\n",
    "        \n",
    "        # maximum body diameter of rocket\n",
    "        d_b = max([comp.diameter for comp in self.components if type(comp) is BodyTube])\n",
    "        \n",
    "        # length of body tube\n",
    "        l_b = sum([comp.length for comp in self.components if type(comp) is BodyTube])\n",
    "        \n",
    "        # length of nose cone\n",
    "        l_n = self.nose_cone.length\n",
    "        \n",
    "        # coefficient of friction of fore body\n",
    "        Cf_fb = self.Cf(Re=Re)\n",
    "        \n",
    "        CD0_fb = (1+60/(l_TR/d_b)**3 + 0.0025*(l_b/d_b))*(2.7*(l_n/d_b) + 4*(l_b/d_b) + 2*(1 - d_d/d_b)*(l_c/d_b))*Cf_fb\n",
    "        \n",
    "        return CD0_fb\n",
    "    \n",
    "    def CD0_b(self, Re=1e6):\n",
    "        \"\"\"Calcualte the zero-angle of attack drag due to base drag\"\"\"\n",
    "        \n",
    "        if self.boat_tail is None:\n",
    "            raise NotImplementedError\n",
    "        else:\n",
    "            # find max dia\n",
    "            d_b = max([comp.diameter for comp in self.components if type(comp) is BodyTube])\n",
    "            # find boat dia aft dia\n",
    "            d_d = self.boat_tail.aft_dia\n",
    "            \n",
    "        CD0_b = 0.029*(d_d/d_b)**3/(self.CD0_fb(Re))**0.5\n",
    "            \n",
    "        \n",
    "        return CD0_b\n",
    "    \n",
    "    def CD0_f(self, Re=1e6):\n",
    "        \"\"\"Calcualte the zero-angle of attack drag due to the fins, including the effect of the interference\"\"\"\n",
    "        \n",
    "        if self.fins is None:\n",
    "            raise RuntimeError(\"Please define the fins using rocket.set_fins(fins) first.\")\n",
    "        \n",
    "        l_TR = self.length()\n",
    "        \n",
    "        l_m_fins = self.fins.mid_chord_span\n",
    "        t_f = self.fins.thickness\n",
    "        A_fp = self.fins.planform_area\n",
    "        A_fe = self.fins.exposed_area\n",
    "        d_f = self.fins.tube_dia\n",
    "        n = self.fins.n\n",
    "        \n",
    "        Re_fins = Re*(l_m_fins/l_TR)\n",
    "        Cf_f = self.Cf(Re_fins)\n",
    "        \n",
    "        \n",
    "        CD0_f = 2 * Cf_f * (1 + 2*t_f/l_m_fins) * (4 * n * (2*A_fp - A_fe)) / (np.pi * d_f**2)\n",
    "        \n",
    "        return CD0_f\n",
    "    \n",
    "    def Cf(self, Re=1e6):\n",
    "        \"\"\"Return the viscous friction coefficient at a Reynolds number\"\"\"\n",
    "        \n",
    "        Re_c = 5e5; #critical reynolds number for transition\n",
    "        \n",
    "        if Re < Re_c:\n",
    "            Cf = 1.328/np.sqrt(Re)\n",
    "            return Cf\n",
    "        \n",
    "        else:\n",
    "            B = Re_c*(0.074*Re**(-0.2) - 1.328*Re**(-0.5))\n",
    "            \n",
    "            Cf = 0.074*Re**(-0.2) - B/Re\n",
    "            \n",
    "            return Cf"
   ]
  },
  {
   "cell_type": "code",
   "execution_count": 4,
   "metadata": {},
   "outputs": [],
   "source": [
    "class NoseCone():\n",
    "    \n",
    "    def __init__(self, name='Nose Cone', shape='Conical', diameter=None, length=None, fineness=None):\n",
    "        # note, the plotting currently assumes its a conical nose. \n",
    "\n",
    "        self.name = name\n",
    "            \n",
    "        self.shape = shape\n",
    "        \n",
    "        if diameter and length:\n",
    "            self.diameter = diameter\n",
    "            self.length = length\n",
    "        elif diameter and fineness:\n",
    "            self.diameter = diameter\n",
    "            self.length = fineness*self.diameter     \n",
    "        elif length and diameter:\n",
    "            self.length = length\n",
    "            self.diameter = length/fineness\n",
    "            \n",
    "        self.ref_dia = self.diameter\n",
    "            \n",
    "    def __repr__(self):\n",
    "        \n",
    "        s = f'{self.name}: (D={self.diameter}, L={self.length})'\n",
    "        \n",
    "        return s\n",
    "    \n",
    "    def CNa(self, alpha=0*ureg.rad, Re=1e6, Mach=0.3):\n",
    "        # eq 25 of [1]\n",
    "        return 2/(1*ureg.rad) # per radian\n",
    "    \n",
    "    def CN(self, alpha=0*ureg.rad, Re=1e6, Mach=0.3):\n",
    "        \n",
    "        return self.CNa(alpha, Re, Mach)*alpha\n",
    "    \n",
    "    def xcp(self, alpha=0*ureg.rad, Re=1e6, Mach=0.3):\n",
    "        \n",
    "        if self.shape == 'Conical':\n",
    "            return (2/3)*self.length\n",
    "        elif self.shape == 'Ogive':\n",
    "            return (5/8)*self.length\n",
    "        elif self.shape == 'Parabolic':\n",
    "            return (3/5)*self.length\n",
    "        else:\n",
    "            raise RuntimeError('Please set the nose cone shape to a supported string')\n",
    "    \n",
    "    def pos(self):\n",
    "        \n",
    "        # get the position of the nose cone\n",
    "        return 0*ureg.m\n",
    "    \n",
    "    def plot(self, ax=None):\n",
    "        \n",
    "        l = si(self.length)\n",
    "        r = si(self.diameter)/2\n",
    "        \n",
    "        coords = np.array([[0, 0], [l, r], [l, -r]])\n",
    "        \n",
    "        poly = Polygon(coords,facecolor='none',edgecolor='k')\n",
    "        \n",
    "        if ax:\n",
    "            return ax.add_patch(poly)\n",
    "        else:\n",
    "            ax = plt.gca()\n",
    "            return ax.add_patch(poly)\n",
    "\n",
    "    \n",
    "class Transition():\n",
    "    \n",
    "    def __init__(self, name = 'Transition', attached_to=None, fore_dia=None, aft_dia=None, length=None):\n",
    "\n",
    "        self.name = name\n",
    "        \n",
    "        self.attached_to = attached_to\n",
    "        self.fore_dia = fore_dia\n",
    "        self.aft_dia = aft_dia\n",
    "        self.ref_dia = attached_to.ref_dia\n",
    "        self.length = length\n",
    "        \n",
    "        \n",
    "    def __repr__(self):\n",
    "        \n",
    "        s = f'Transition, (D_fore = {self.fore_dia}, D_aft = {self.aft_dia}, L={self.length})'\n",
    "        \n",
    "        return s\n",
    "    \n",
    "    def pos(self):\n",
    "        \n",
    "        return self.attached_to.length + self.attached_to.pos()\n",
    "    \n",
    "    def CNa(self, alpha=0*ureg.rad, Re=1e6, Mach=0.3):\n",
    "        \n",
    "        return 2*((self.aft_dia/self.ref_dia)**2 - (self.fore_dia/self.ref_dia)**2) / (1*ureg.rad)\n",
    "    \n",
    "    def CN(self, alpha=0*ureg.rad, Re=1e6, Mach=0.3):\n",
    "        \n",
    "        return self.CNa(alpha, Re, Mach) * alpha\n",
    "    \n",
    "    def xcp(self, alpha=0*ureg.rad, Re=1e6, Mach=0.3):\n",
    "        \n",
    "        d_fore = self.fore_dia\n",
    "        d_aft = self.aft_dia\n",
    "        \n",
    "        #eqn 40 of ref[1]\n",
    "        return (self.length/3) * ((d_fore + 2 * d_aft)/(d_fore + d_aft))\n",
    "    \n",
    "    def plot(self, ax=None):\n",
    "        \n",
    "        l = si(self.length)\n",
    "        fore_r = si(self.fore_dia)/2\n",
    "        aft_r = si(self.aft_dia)/2\n",
    "        \n",
    "        pos = si(self.pos())\n",
    "        \n",
    "        coords = np.array([[pos, fore_r], [pos+l, aft_r], [pos+l, -aft_r],[pos, -fore_r]])\n",
    "        \n",
    "        poly = Polygon(coords,facecolor='none',edgecolor='k')\n",
    "        \n",
    "        if ax:\n",
    "            return ax.add_patch(poly)\n",
    "        else:\n",
    "            ax = plt.gca()\n",
    "            return ax.add_patch(poly)\n",
    "\n",
    "\n",
    "class BodyTube():\n",
    "    \n",
    "    \n",
    "    def __init__(self, name = 'Body Tube', attached_to = None, diameter=None, length=None):\n",
    "        \n",
    "        self.name = name\n",
    "        \n",
    "        self.attached_to = attached_to\n",
    "        self.ref_dia = attached_to.ref_dia\n",
    "        \n",
    "        if diameter:\n",
    "            self.diameter = diameter\n",
    "        else:\n",
    "            self.diameter = self.attached_to.ref_dia\n",
    "        \n",
    "        self.length = length\n",
    "        \n",
    "    def pos(self):\n",
    "        \n",
    "        return self.attached_to.length + self.attached_to.pos()\n",
    "    \n",
    "    def __repr__(self):\n",
    "        \n",
    "        s = f'{self.name}: (D={self.diameter}, L={self.length})'\n",
    "        \n",
    "        return s\n",
    "    \n",
    "    def plot(self, ax=None):\n",
    "        \n",
    "        l = si(self.length)\n",
    "        r = si(self.diameter)/2\n",
    "        \n",
    "        pos = si(self.pos())\n",
    "        \n",
    "        coords = np.array([[pos, r], [pos+l, r], [pos+l, -r],[pos, -r]])\n",
    "        \n",
    "        poly = Polygon(coords,facecolor='none',edgecolor='k')\n",
    "        \n",
    "        if ax:\n",
    "            return ax.add_patch(poly)\n",
    "        else:\n",
    "            ax = plt.gca()\n",
    "            return ax.add_patch(poly)\n",
    "        \n",
    "        \n",
    "    def CNa(self, alpha=0*ureg.rad, Re=1e6, Mach=0.3, K=1.1):\n",
    "        \n",
    "        planform_area = self.diameter * self.length\n",
    "        ref_area = np.pi*(self.ref_dia/2)**2\n",
    "        \n",
    "        return (K*planform_area/ref_area) * alpha /((1*ureg.rad)**2)\n",
    "    \n",
    "    def CN(self, alpha=0*ureg.rad, Re=1e6, Mach=0.3, K=1.1):\n",
    "        \n",
    "        return self.CNa(alpha, Re, Mach, K) * alpha\n",
    "    \n",
    "    \n",
    "    def xcp(self, alpha=0*ureg.rad, Re=1e6, Mach=0.3):\n",
    "        \n",
    "        return self.length/2\n",
    "    \n",
    "    \n",
    "        \n",
    "    \n",
    "class FinSet():\n",
    "    \n",
    "    def __init__(self, name = 'Fins', attached_to=None, n=None, span=None, root_chord=None, tip_chord=None, mid_sweep=None, thickness=None):\n",
    "        \n",
    "        # midsweep is the sweep angle at the mid-chord locations\n",
    "        # attached_to tells you which body tube it is attached to, and inherits important info from there\n",
    "        \n",
    "        self.name = name\n",
    "        \n",
    "        self.attached_to = attached_to\n",
    "        self.ref_dia = attached_to.ref_dia\n",
    "        \n",
    "        self.n = n\n",
    "        self.span = span\n",
    "        self.root_chord = root_chord\n",
    "        self.tip_chord = tip_chord\n",
    "        self.mid_sweep = mid_sweep\n",
    "        self.mid_chord_span = self.span/np.cos(self.mid_sweep)\n",
    "        \n",
    "        self.tube_dia = self.attached_to.diameter\n",
    "        self.length = 0 # used in calculating the overall length of the rocket\n",
    "        self.thickness = thickness\n",
    "        \n",
    "        self.exposed_area = 0.5 * (self.root_chord + self.tip_chord) * self.span # per fin\n",
    "        self.planform_area = self.exposed_area + 0.5 * self.tube_dia * self.root_chord # per fin        \n",
    "        \n",
    "        \n",
    "    def pos(self):\n",
    "        \n",
    "        return self.attached_to.length + self.attached_to.pos() - self.root_chord\n",
    "        \n",
    "    def __repr__(self):\n",
    "        \n",
    "        s = f'Fin set'\n",
    "        \n",
    "        return s\n",
    "    \n",
    "    def CNa(self, alpha=0*ureg.rad, Re=1e6, Mach=0.3):\n",
    "        \n",
    "\n",
    "        \n",
    "        if self.n <= 4:\n",
    "            body_influence = 1 +     (self.tube_dia/2)/(self.span + self.tube_dia/2)\n",
    "        elif self.n > 4:\n",
    "            body_influence = 1 + 0.5*(self.tube_dia/2)/(self.span + self.tube_dia/2)\n",
    "        \n",
    "        CNa = body_influence * (4*self.n*(self.span/self.ref_dia)**2) / (1 + (1 + (self.mid_chord_span/(self.root_chord + self.tip_chord))**2)**0.5)\n",
    "        \n",
    "        \n",
    "        return CNa / (1*ureg.rad)\n",
    "    \n",
    "    def CN(self, alpha=0*ureg.rad, Re=1e6, Mach=0.3):\n",
    "        \n",
    "        return self.CNa(alpha, Re, Mach) * alpha\n",
    "    \n",
    "    def xcp(self, alpha=0*ureg.rad, Re=1e6, Mach=0.3):\n",
    "        \n",
    "        lm = self.mid_chord_span\n",
    "        lr = self.root_chord\n",
    "        lt = self.tip_chord\n",
    "        \n",
    "        a = lm * (lr + lt) / (3 * (lr + lt))\n",
    "        b = (1/6) * (lr + lt - (lr*lt)/(lr + lt))\n",
    "        \n",
    "        \n",
    "        return a + b\n",
    "    \n",
    "    def plot(self, ax=None):\n",
    "        \n",
    "        pos = si(self.pos())        \n",
    "        \n",
    "        r = si(self.tube_dia)/2\n",
    "        lr = si(self.root_chord)\n",
    "        lt = si(self.tip_chord)\n",
    "        lm = si(self.mid_chord_span)\n",
    "        ls = si(self.span)\n",
    "        sweep = si(self.mid_sweep)\n",
    "        \n",
    "        tip_le = lr/2 + ls*np.tan(sweep) - lt/2 #tip leading edge\n",
    "        \n",
    "        \n",
    "        coords = np.array([[pos, r], [pos+tip_le , r + ls], [pos + tip_le + lt, r + ls], [pos + lr, r]])\n",
    "        \n",
    "        th_set = np.linspace(0, 2*np.pi, self.n, endpoint=False)\n",
    "        \n",
    "        poly_set = []\n",
    "        for th in th_set:\n",
    "            R2 = np.array([[1, 0 ], [0, np.cos(th)]])\n",
    "            coords2 = (R2 @ coords.T).T\n",
    "            poly = Polygon(coords2,facecolor='none',edgecolor='k')\n",
    "            poly_set.append(poly)\n",
    "            \n",
    "        \n",
    "        if not ax:\n",
    "            ax = plt.gca()\n",
    "            \n",
    "            \n",
    "        for poly in poly_set:\n",
    "            ax.add_patch(poly)        \n",
    "        \n",
    "        return None\n",
    "        \n",
    "        \n",
    "    \n",
    "    #references:\n",
    "    #[1]: Simon Box, 2009, Estimating the dynamic and aerodynamic paramters of passively controlled high power rockets for flight simulaton\n",
    "        "
   ]
  },
  {
   "cell_type": "markdown",
   "metadata": {},
   "source": [
    "# Example Usage"
   ]
  },
  {
   "cell_type": "code",
   "execution_count": 5,
   "metadata": {},
   "outputs": [
    {
     "data": {
      "text/plain": [
       "Sample Rocket"
      ]
     },
     "execution_count": 5,
     "metadata": {},
     "output_type": "execute_result"
    }
   ],
   "source": [
    "r = Rocket('Sample Rocket')\n",
    "r"
   ]
  },
  {
   "cell_type": "code",
   "execution_count": 6,
   "metadata": {},
   "outputs": [
    {
     "data": {
      "text/plain": [
       "Nose Cone: (D=6 inch, L=18 inch)"
      ]
     },
     "execution_count": 6,
     "metadata": {},
     "output_type": "execute_result"
    }
   ],
   "source": [
    "# create a nose cone\n",
    "nc = NoseCone(diameter=6*ureg.inch, length=18*ureg.inch)\n",
    "# assign it to the rocket\n",
    "r.set_nose_cone(nc)\n",
    "nc"
   ]
  },
  {
   "cell_type": "code",
   "execution_count": 7,
   "metadata": {},
   "outputs": [
    {
     "data": {
      "image/png": "[encoded data removed]",
      "text/plain": [
       "<Figure size 432x288 with 1 Axes>"
      ]
     },
     "metadata": {
      "needs_background": "light"
     },
     "output_type": "display_data"
    }
   ],
   "source": [
    "# plot the nose cone\n",
    "nc.plot();\n",
    "\n",
    "plt.grid();\n",
    "plt.axis('equal');"
   ]
  },
  {
   "cell_type": "code",
   "execution_count": 8,
   "metadata": {},
   "outputs": [
    {
     "data": {
      "text/html": [
       "0.4 dimensionless"
      ],
      "text/latex": [
       "$0.4\\ dimensionless$"
      ],
      "text/plain": [
       "0.4 <Unit('dimensionless')>"
      ]
     },
     "execution_count": 8,
     "metadata": {},
     "output_type": "execute_result"
    }
   ],
   "source": [
    "# determine the normal force coefficient at some alpha\n",
    "nc.CN(alpha=0.2*ureg.rad)"
   ]
  },
  {
   "cell_type": "code",
   "execution_count": 9,
   "metadata": {},
   "outputs": [
    {
     "data": {
      "text/plain": [
       "Body Tube: (D=6 inch, L=48 inch)"
      ]
     },
     "execution_count": 9,
     "metadata": {},
     "output_type": "execute_result"
    }
   ],
   "source": [
    "# create a body tube\n",
    "bt = BodyTube(attached_to=nc, diameter=6*ureg.inch, length=48*ureg.inch)\n",
    "r.set_body_tube(bt)\n",
    "bt"
   ]
  },
  {
   "cell_type": "code",
   "execution_count": 10,
   "metadata": {},
   "outputs": [
    {
     "data": {
      "image/png": "[encoded data removed]",
      "text/plain": [
       "<Figure size 432x288 with 1 Axes>"
      ]
     },
     "metadata": {
      "needs_background": "light"
     },
     "output_type": "display_data"
    }
   ],
   "source": [
    "# plot the rocket so far\n",
    "r.plot()"
   ]
  },
  {
   "cell_type": "code",
   "execution_count": 11,
   "metadata": {},
   "outputs": [
    {
     "data": {
      "text/plain": [
       "Transition, (D_fore = 6 inch, D_aft = 4 inch, L=4 inch)"
      ]
     },
     "execution_count": 11,
     "metadata": {},
     "output_type": "execute_result"
    }
   ],
   "source": [
    "# create a boat tail\n",
    "boat_tail = Transition(name='Boat Tail',attached_to=bt, fore_dia=6*ureg.inch, aft_dia=4*ureg.inch, length=4*ureg.inch)\n",
    "r.set_boat_tail(boat_tail)\n",
    "boat_tail"
   ]
  },
  {
   "cell_type": "code",
   "execution_count": 12,
   "metadata": {},
   "outputs": [
    {
     "data": {
      "text/html": [
       "-1.1111111111111112 1/radian"
      ],
      "text/latex": [
       "$-1.1111111111111112\\ \\frac{1}{\\mathrm{radian}}$"
      ],
      "text/plain": [
       "-1.1111111111111112 <Unit('1 / radian')>"
      ]
     },
     "execution_count": 12,
     "metadata": {},
     "output_type": "execute_result"
    }
   ],
   "source": [
    "# get the normal force coefficient for the boat tail.\n",
    "boat_tail.CNa()"
   ]
  },
  {
   "cell_type": "code",
   "execution_count": 13,
   "metadata": {},
   "outputs": [
    {
     "data": {
      "text/plain": [
       "Fin set"
      ]
     },
     "execution_count": 13,
     "metadata": {},
     "output_type": "execute_result"
    }
   ],
   "source": [
    "# create the fins\n",
    "fins = FinSet(attached_to=bt, n=3, span=6*ureg.inch, root_chord=12*ureg.inch, tip_chord=6*ureg.inch, mid_sweep=10*ureg.degree, thickness=6*ureg.mm)\n",
    "# assign fins to the rocket\n",
    "r.set_fins(fins)\n",
    "fins"
   ]
  },
  {
   "cell_type": "code",
   "execution_count": 14,
   "metadata": {},
   "outputs": [
    {
     "name": "stdout",
     "output_type": "stream",
     "text": [
      "name                : \t Fins\n",
      "attached_to         : \t Body Tube: (D=6 inch, L=48 inch)\n",
      "ref_dia             : \t 6 inch\n",
      "n                   : \t 3\n",
      "span                : \t 6 inch\n",
      "root_chord          : \t 12 inch\n",
      "tip_chord           : \t 6 inch\n",
      "mid_sweep           : \t 10 degree\n",
      "mid_chord_span      : \t 6.09255967131447 inch\n",
      "tube_dia            : \t 6 inch\n",
      "length              : \t 0\n",
      "thickness           : \t 6 millimeter\n",
      "exposed_area        : \t 54.0 inch ** 2\n",
      "planform_area       : \t 90.0 inch ** 2\n"
     ]
    }
   ],
   "source": [
    "# you can get a slightly ugly print out of all the parameters, using Python's built in (__dict__)\n",
    "for d in fins.__dict__:\n",
    "    print(f'{d:20s}: \\t {fins.__dict__[d]}' )"
   ]
  },
  {
   "cell_type": "code",
   "execution_count": 15,
   "metadata": {
    "scrolled": false
   },
   "outputs": [
    {
     "data": {
      "image/png": "[encoded data removed]",
      "text/plain": [
       "<Figure size 1080x720 with 1 Axes>"
      ]
     },
     "metadata": {
      "needs_background": "light"
     },
     "output_type": "display_data"
    }
   ],
   "source": [
    "# plot the entire rocket\n",
    "fig = plt.figure(figsize=(15,10))\n",
    "ax = plt.gca()\n",
    "r.plot(ax, plot_component_cp=True)"
   ]
  },
  {
   "cell_type": "code",
   "execution_count": 16,
   "metadata": {},
   "outputs": [
    {
     "data": {
      "text/plain": [
       "[Nose Cone: (D=6 inch, L=18 inch),\n",
       " Body Tube: (D=6 inch, L=48 inch),\n",
       " Transition, (D_fore = 6 inch, D_aft = 4 inch, L=4 inch),\n",
       " Fin set]"
      ]
     },
     "execution_count": 16,
     "metadata": {},
     "output_type": "execute_result"
    }
   ],
   "source": [
    "# its also a good idea to do a check of the components list:\n",
    "r.components"
   ]
  },
  {
   "cell_type": "code",
   "execution_count": 17,
   "metadata": {},
   "outputs": [
    {
     "name": "stdout",
     "output_type": "stream",
     "text": [
      "70 inch\n",
      "1.778 meter\n"
     ]
    }
   ],
   "source": [
    "# and the total length of the rocket\n",
    "print(r.length())\n",
    "print(r.length().to_base_units())"
   ]
  },
  {
   "cell_type": "code",
   "execution_count": 18,
   "metadata": {},
   "outputs": [
    {
     "data": {
      "text/html": [
       "1.1799275034283525 meter"
      ],
      "text/latex": [
       "$1.1799275034283525\\ \\mathrm{meter}$"
      ],
      "text/plain": [
       "1.1799275034283525 <Unit('meter')>"
      ]
     },
     "execution_count": 18,
     "metadata": {},
     "output_type": "execute_result"
    }
   ],
   "source": [
    "# query some parameters of the rocket\n",
    "r.xcp()"
   ]
  },
  {
   "cell_type": "code",
   "execution_count": 19,
   "metadata": {},
   "outputs": [
    {
     "data": {
      "text/html": [
       "8.672012416372757 1/radian"
      ],
      "text/latex": [
       "$8.672012416372757\\ \\frac{1}{\\mathrm{radian}}$"
      ],
      "text/plain": [
       "8.672012416372757 <Unit('1 / radian')>"
      ]
     },
     "execution_count": 19,
     "metadata": {},
     "output_type": "execute_result"
    }
   ],
   "source": [
    "r.CNa()"
   ]
  },
  {
   "cell_type": "code",
   "execution_count": 20,
   "metadata": {},
   "outputs": [
    {
     "data": {
      "text/plain": [
       "[Nose Cone: (D=6 inch, L=18 inch),\n",
       " Body Tube: (D=6 inch, L=48 inch),\n",
       " Transition, (D_fore = 6 inch, D_aft = 4 inch, L=4 inch),\n",
       " Fin set]"
      ]
     },
     "execution_count": 20,
     "metadata": {},
     "output_type": "execute_result"
    }
   ],
   "source": [
    "r.components"
   ]
  },
  {
   "cell_type": "code",
   "execution_count": 21,
   "metadata": {},
   "outputs": [
    {
     "data": {
      "text/html": [
       "12.0 inch"
      ],
      "text/latex": [
       "$12.0\\ \\mathrm{inch}$"
      ],
      "text/plain": [
       "12.0 <Unit('inch')>"
      ]
     },
     "execution_count": 21,
     "metadata": {},
     "output_type": "execute_result"
    }
   ],
   "source": [
    "r.components[0].xcp()"
   ]
  },
  {
   "cell_type": "code",
   "execution_count": null,
   "metadata": {},
   "outputs": [],
   "source": []
  },
  {
   "cell_type": "code",
   "execution_count": null,
   "metadata": {},
   "outputs": [],
   "source": []
  },
  {
   "cell_type": "code",
   "execution_count": 22,
   "metadata": {},
   "outputs": [
    {
     "data": {
      "text/plain": [
       "1.778"
      ]
     },
     "execution_count": 22,
     "metadata": {},
     "output_type": "execute_result"
    }
   ],
   "source": [
    "si(sum(comp.length for comp in r.components))"
   ]
  },
  {
   "cell_type": "code",
   "execution_count": 23,
   "metadata": {},
   "outputs": [
    {
     "data": {
      "text/plain": [
       "[Nose Cone: (D=6 inch, L=18 inch),\n",
       " Body Tube: (D=6 inch, L=48 inch),\n",
       " Transition, (D_fore = 6 inch, D_aft = 4 inch, L=4 inch),\n",
       " Fin set]"
      ]
     },
     "execution_count": 23,
     "metadata": {},
     "output_type": "execute_result"
    }
   ],
   "source": [
    "r.components"
   ]
  },
  {
   "cell_type": "code",
   "execution_count": 24,
   "metadata": {},
   "outputs": [
    {
     "name": "stderr",
     "output_type": "stream",
     "text": [
      "/Users/Devansh/anaconda3/lib/python3.6/site-packages/pint/quantity.py:1377: UnitStrippedWarning: The unit of the quantity is stripped.\n",
      "  warnings.warn(\"The unit of the quantity is stripped.\", UnitStrippedWarning)\n"
     ]
    }
   ],
   "source": [
    "alphas = np.linspace(0, 20)*ureg.degree\n",
    "CNs = np.array([bt.CN(alpha) for alpha in alphas])"
   ]
  },
  {
   "cell_type": "code",
   "execution_count": 25,
   "metadata": {},
   "outputs": [
    {
     "data": {
      "image/png": "[encoded data removed]",
      "text/plain": [
       "<Figure size 432x288 with 1 Axes>"
      ]
     },
     "metadata": {
      "needs_background": "light"
     },
     "output_type": "display_data"
    }
   ],
   "source": [
    "plt.plot(alphas.to(ureg.degree), CNs)\n",
    "plt.grid();\n",
    "plt.xlabel('Alpha (deg)');\n",
    "plt.ylabel('Normal Force Coefficient');"
   ]
  },
  {
   "cell_type": "code",
   "execution_count": 26,
   "metadata": {},
   "outputs": [
    {
     "data": {
      "image/png": "[encoded data removed]",
      "text/plain": [
       "<Figure size 432x288 with 1 Axes>"
      ]
     },
     "metadata": {
      "needs_background": "light"
     },
     "output_type": "display_data"
    }
   ],
   "source": [
    "re_vals = np.logspace(4, 8)\n",
    "plt.loglog(re_vals, [r.Cf(re) for re in re_vals])\n",
    "plt.xlabel('Reynolds Number')\n",
    "plt.ylabel('Viscous Friction Coefficient')\n",
    "plt.grid()"
   ]
  },
  {
   "cell_type": "code",
   "execution_count": 27,
   "metadata": {},
   "outputs": [
    {
     "data": {
      "text/html": [
       "0.2822518251439863 dimensionless"
      ],
      "text/latex": [
       "$0.2822518251439863\\ dimensionless$"
      ],
      "text/plain": [
       "0.2822518251439863 <Unit('dimensionless')>"
      ]
     },
     "execution_count": 27,
     "metadata": {},
     "output_type": "execute_result"
    }
   ],
   "source": [
    "# try to get the zero-angle of attack drag coefficient\n",
    "r.CD0()"
   ]
  },
  {
   "cell_type": "code",
   "execution_count": 28,
   "metadata": {},
   "outputs": [
    {
     "data": {
      "text/plain": [
       "Text(0, 0.5, 'CD0 of Rocket')"
      ]
     },
     "execution_count": 28,
     "metadata": {},
     "output_type": "execute_result"
    },
    {
     "data": {
      "image/png": "[encoded data removed]",
      "text/plain": [
       "<Figure size 432x288 with 1 Axes>"
      ]
     },
     "metadata": {
      "needs_background": "light"
     },
     "output_type": "display_data"
    }
   ],
   "source": [
    "# plot this as a function of the drag coefficient\n",
    "plt.loglog(re_vals, [r.CD0(re) for re in re_vals])\n",
    "plt.grid()\n",
    "plt.xlabel(\"Re_{L}\")\n",
    "plt.ylabel(\"CD0 of Rocket\")"
   ]
  },
  {
   "cell_type": "code",
   "execution_count": 29,
   "metadata": {},
   "outputs": [
    {
     "ename": "NameError",
     "evalue": "name 'n' is not defined",
     "output_type": "error",
     "traceback": [
      "\u001b[0;31m---------------------------------------------------------------------------\u001b[0m",
      "\u001b[0;31mNameError\u001b[0m                                 Traceback (most recent call last)",
      "\u001b[0;32m<ipython-input-29-0080a20a0925>\u001b[0m in \u001b[0;36m<module>\u001b[0;34m\u001b[0m\n\u001b[0;32m----> 1\u001b[0;31m \u001b[0mplt\u001b[0m\u001b[0;34m.\u001b[0m\u001b[0mloglog\u001b[0m\u001b[0;34m(\u001b[0m\u001b[0mre_vals\u001b[0m\u001b[0;34m,\u001b[0m \u001b[0;34m[\u001b[0m\u001b[0mr\u001b[0m\u001b[0;34m.\u001b[0m\u001b[0mCD\u001b[0m\u001b[0;34m(\u001b[0m\u001b[0malpha\u001b[0m\u001b[0;34m=\u001b[0m\u001b[0;36m0\u001b[0m\u001b[0;34m*\u001b[0m\u001b[0mureg\u001b[0m\u001b[0;34m.\u001b[0m\u001b[0mdegree\u001b[0m\u001b[0;34m,\u001b[0m \u001b[0mRe\u001b[0m\u001b[0;34m=\u001b[0m\u001b[0mre\u001b[0m\u001b[0;34m,\u001b[0m \u001b[0mMach\u001b[0m\u001b[0;34m=\u001b[0m\u001b[0;36m0.0\u001b[0m\u001b[0;34m)\u001b[0m \u001b[0;32mfor\u001b[0m \u001b[0mre\u001b[0m \u001b[0;32min\u001b[0m \u001b[0mre_vals\u001b[0m\u001b[0;34m]\u001b[0m\u001b[0;34m,\u001b[0m \u001b[0mlabel\u001b[0m\u001b[0;34m=\u001b[0m\u001b[0;34m'α = 0 degree'\u001b[0m\u001b[0;34m)\u001b[0m\u001b[0;34m\u001b[0m\u001b[0;34m\u001b[0m\u001b[0m\n\u001b[0m\u001b[1;32m      2\u001b[0m \u001b[0mplt\u001b[0m\u001b[0;34m.\u001b[0m\u001b[0mloglog\u001b[0m\u001b[0;34m(\u001b[0m\u001b[0mre_vals\u001b[0m\u001b[0;34m,\u001b[0m \u001b[0;34m[\u001b[0m\u001b[0mr\u001b[0m\u001b[0;34m.\u001b[0m\u001b[0mCD\u001b[0m\u001b[0;34m(\u001b[0m\u001b[0malpha\u001b[0m\u001b[0;34m=\u001b[0m\u001b[0;36m2\u001b[0m\u001b[0;34m*\u001b[0m\u001b[0mureg\u001b[0m\u001b[0;34m.\u001b[0m\u001b[0mdegree\u001b[0m\u001b[0;34m,\u001b[0m \u001b[0mRe\u001b[0m\u001b[0;34m=\u001b[0m\u001b[0mre\u001b[0m\u001b[0;34m,\u001b[0m \u001b[0mMach\u001b[0m\u001b[0;34m=\u001b[0m\u001b[0;36m0.0\u001b[0m\u001b[0;34m)\u001b[0m \u001b[0;32mfor\u001b[0m \u001b[0mre\u001b[0m \u001b[0;32min\u001b[0m \u001b[0mre_vals\u001b[0m\u001b[0;34m]\u001b[0m\u001b[0;34m,\u001b[0m \u001b[0mlabel\u001b[0m\u001b[0;34m=\u001b[0m\u001b[0;34m'α = 2 degree'\u001b[0m\u001b[0;34m)\u001b[0m\u001b[0;34m\u001b[0m\u001b[0;34m\u001b[0m\u001b[0m\n\u001b[1;32m      3\u001b[0m \u001b[0mplt\u001b[0m\u001b[0;34m.\u001b[0m\u001b[0mloglog\u001b[0m\u001b[0;34m(\u001b[0m\u001b[0mre_vals\u001b[0m\u001b[0;34m,\u001b[0m \u001b[0;34m[\u001b[0m\u001b[0mr\u001b[0m\u001b[0;34m.\u001b[0m\u001b[0mCD\u001b[0m\u001b[0;34m(\u001b[0m\u001b[0malpha\u001b[0m\u001b[0;34m=\u001b[0m\u001b[0;36m5\u001b[0m\u001b[0;34m*\u001b[0m\u001b[0mureg\u001b[0m\u001b[0;34m.\u001b[0m\u001b[0mdegree\u001b[0m\u001b[0;34m,\u001b[0m \u001b[0mRe\u001b[0m\u001b[0;34m=\u001b[0m\u001b[0mre\u001b[0m\u001b[0;34m,\u001b[0m \u001b[0mMach\u001b[0m\u001b[0;34m=\u001b[0m\u001b[0;36m0.0\u001b[0m\u001b[0;34m)\u001b[0m \u001b[0;32mfor\u001b[0m \u001b[0mre\u001b[0m \u001b[0;32min\u001b[0m \u001b[0mre_vals\u001b[0m\u001b[0;34m]\u001b[0m\u001b[0;34m,\u001b[0m \u001b[0mlabel\u001b[0m\u001b[0;34m=\u001b[0m\u001b[0;34m'α = 5 degree'\u001b[0m\u001b[0;34m)\u001b[0m\u001b[0;34m\u001b[0m\u001b[0;34m\u001b[0m\u001b[0m\n\u001b[1;32m      4\u001b[0m \u001b[0mplt\u001b[0m\u001b[0;34m.\u001b[0m\u001b[0mgrid\u001b[0m\u001b[0;34m(\u001b[0m\u001b[0;34m)\u001b[0m\u001b[0;34m\u001b[0m\u001b[0;34m\u001b[0m\u001b[0m\n\u001b[1;32m      5\u001b[0m \u001b[0mplt\u001b[0m\u001b[0;34m.\u001b[0m\u001b[0mxlabel\u001b[0m\u001b[0;34m(\u001b[0m\u001b[0;34m\"Re_{L}\"\u001b[0m\u001b[0;34m)\u001b[0m\u001b[0;34m\u001b[0m\u001b[0;34m\u001b[0m\u001b[0m\n",
      "\u001b[0;32m<ipython-input-29-0080a20a0925>\u001b[0m in \u001b[0;36m<listcomp>\u001b[0;34m(.0)\u001b[0m\n\u001b[0;32m----> 1\u001b[0;31m \u001b[0mplt\u001b[0m\u001b[0;34m.\u001b[0m\u001b[0mloglog\u001b[0m\u001b[0;34m(\u001b[0m\u001b[0mre_vals\u001b[0m\u001b[0;34m,\u001b[0m \u001b[0;34m[\u001b[0m\u001b[0mr\u001b[0m\u001b[0;34m.\u001b[0m\u001b[0mCD\u001b[0m\u001b[0;34m(\u001b[0m\u001b[0malpha\u001b[0m\u001b[0;34m=\u001b[0m\u001b[0;36m0\u001b[0m\u001b[0;34m*\u001b[0m\u001b[0mureg\u001b[0m\u001b[0;34m.\u001b[0m\u001b[0mdegree\u001b[0m\u001b[0;34m,\u001b[0m \u001b[0mRe\u001b[0m\u001b[0;34m=\u001b[0m\u001b[0mre\u001b[0m\u001b[0;34m,\u001b[0m \u001b[0mMach\u001b[0m\u001b[0;34m=\u001b[0m\u001b[0;36m0.0\u001b[0m\u001b[0;34m)\u001b[0m \u001b[0;32mfor\u001b[0m \u001b[0mre\u001b[0m \u001b[0;32min\u001b[0m \u001b[0mre_vals\u001b[0m\u001b[0;34m]\u001b[0m\u001b[0;34m,\u001b[0m \u001b[0mlabel\u001b[0m\u001b[0;34m=\u001b[0m\u001b[0;34m'α = 0 degree'\u001b[0m\u001b[0;34m)\u001b[0m\u001b[0;34m\u001b[0m\u001b[0;34m\u001b[0m\u001b[0m\n\u001b[0m\u001b[1;32m      2\u001b[0m \u001b[0mplt\u001b[0m\u001b[0;34m.\u001b[0m\u001b[0mloglog\u001b[0m\u001b[0;34m(\u001b[0m\u001b[0mre_vals\u001b[0m\u001b[0;34m,\u001b[0m \u001b[0;34m[\u001b[0m\u001b[0mr\u001b[0m\u001b[0;34m.\u001b[0m\u001b[0mCD\u001b[0m\u001b[0;34m(\u001b[0m\u001b[0malpha\u001b[0m\u001b[0;34m=\u001b[0m\u001b[0;36m2\u001b[0m\u001b[0;34m*\u001b[0m\u001b[0mureg\u001b[0m\u001b[0;34m.\u001b[0m\u001b[0mdegree\u001b[0m\u001b[0;34m,\u001b[0m \u001b[0mRe\u001b[0m\u001b[0;34m=\u001b[0m\u001b[0mre\u001b[0m\u001b[0;34m,\u001b[0m \u001b[0mMach\u001b[0m\u001b[0;34m=\u001b[0m\u001b[0;36m0.0\u001b[0m\u001b[0;34m)\u001b[0m \u001b[0;32mfor\u001b[0m \u001b[0mre\u001b[0m \u001b[0;32min\u001b[0m \u001b[0mre_vals\u001b[0m\u001b[0;34m]\u001b[0m\u001b[0;34m,\u001b[0m \u001b[0mlabel\u001b[0m\u001b[0;34m=\u001b[0m\u001b[0;34m'α = 2 degree'\u001b[0m\u001b[0;34m)\u001b[0m\u001b[0;34m\u001b[0m\u001b[0;34m\u001b[0m\u001b[0m\n\u001b[1;32m      3\u001b[0m \u001b[0mplt\u001b[0m\u001b[0;34m.\u001b[0m\u001b[0mloglog\u001b[0m\u001b[0;34m(\u001b[0m\u001b[0mre_vals\u001b[0m\u001b[0;34m,\u001b[0m \u001b[0;34m[\u001b[0m\u001b[0mr\u001b[0m\u001b[0;34m.\u001b[0m\u001b[0mCD\u001b[0m\u001b[0;34m(\u001b[0m\u001b[0malpha\u001b[0m\u001b[0;34m=\u001b[0m\u001b[0;36m5\u001b[0m\u001b[0;34m*\u001b[0m\u001b[0mureg\u001b[0m\u001b[0;34m.\u001b[0m\u001b[0mdegree\u001b[0m\u001b[0;34m,\u001b[0m \u001b[0mRe\u001b[0m\u001b[0;34m=\u001b[0m\u001b[0mre\u001b[0m\u001b[0;34m,\u001b[0m \u001b[0mMach\u001b[0m\u001b[0;34m=\u001b[0m\u001b[0;36m0.0\u001b[0m\u001b[0;34m)\u001b[0m \u001b[0;32mfor\u001b[0m \u001b[0mre\u001b[0m \u001b[0;32min\u001b[0m \u001b[0mre_vals\u001b[0m\u001b[0;34m]\u001b[0m\u001b[0;34m,\u001b[0m \u001b[0mlabel\u001b[0m\u001b[0;34m=\u001b[0m\u001b[0;34m'α = 5 degree'\u001b[0m\u001b[0;34m)\u001b[0m\u001b[0;34m\u001b[0m\u001b[0;34m\u001b[0m\u001b[0m\n\u001b[1;32m      4\u001b[0m \u001b[0mplt\u001b[0m\u001b[0;34m.\u001b[0m\u001b[0mgrid\u001b[0m\u001b[0;34m(\u001b[0m\u001b[0;34m)\u001b[0m\u001b[0;34m\u001b[0m\u001b[0;34m\u001b[0m\u001b[0m\n\u001b[1;32m      5\u001b[0m \u001b[0mplt\u001b[0m\u001b[0;34m.\u001b[0m\u001b[0mxlabel\u001b[0m\u001b[0;34m(\u001b[0m\u001b[0;34m\"Re_{L}\"\u001b[0m\u001b[0;34m)\u001b[0m\u001b[0;34m\u001b[0m\u001b[0;34m\u001b[0m\u001b[0m\n",
      "\u001b[0;32m<ipython-input-3-9cd4d446c70f>\u001b[0m in \u001b[0;36mCD\u001b[0;34m(self, alpha, Re, Mach)\u001b[0m\n\u001b[1;32m    134\u001b[0m         \u001b[0mCD0\u001b[0m \u001b[0;34m=\u001b[0m \u001b[0mself\u001b[0m\u001b[0;34m.\u001b[0m\u001b[0mCD0\u001b[0m\u001b[0;34m(\u001b[0m\u001b[0mRe\u001b[0m\u001b[0;34m)\u001b[0m\u001b[0;34m\u001b[0m\u001b[0;34m\u001b[0m\u001b[0m\n\u001b[1;32m    135\u001b[0m         \u001b[0mCD_body_alpha\u001b[0m \u001b[0;34m=\u001b[0m \u001b[0mself\u001b[0m\u001b[0;34m.\u001b[0m\u001b[0mCD_body_alpha\u001b[0m\u001b[0;34m(\u001b[0m\u001b[0malpha\u001b[0m\u001b[0;34m)\u001b[0m\u001b[0;34m\u001b[0m\u001b[0;34m\u001b[0m\u001b[0m\n\u001b[0;32m--> 136\u001b[0;31m         \u001b[0mCD_fin_alpha\u001b[0m \u001b[0;34m=\u001b[0m \u001b[0mself\u001b[0m\u001b[0;34m.\u001b[0m\u001b[0mCD_fin_alpha\u001b[0m\u001b[0;34m(\u001b[0m\u001b[0malpha\u001b[0m\u001b[0;34m)\u001b[0m\u001b[0;34m\u001b[0m\u001b[0;34m\u001b[0m\u001b[0m\n\u001b[0m\u001b[1;32m    137\u001b[0m \u001b[0;34m\u001b[0m\u001b[0m\n\u001b[1;32m    138\u001b[0m         \u001b[0mCD\u001b[0m \u001b[0;34m=\u001b[0m \u001b[0mCD0\u001b[0m \u001b[0;34m+\u001b[0m \u001b[0mCD_body_alpha\u001b[0m \u001b[0;34m+\u001b[0m \u001b[0mCD_fins_alpha\u001b[0m\u001b[0;34m\u001b[0m\u001b[0;34m\u001b[0m\u001b[0m\n",
      "\u001b[0;32m<ipython-input-3-9cd4d446c70f>\u001b[0m in \u001b[0;36mCD_fin_alpha\u001b[0;34m(self, alpha)\u001b[0m\n\u001b[1;32m    179\u001b[0m \u001b[0;34m\u001b[0m\u001b[0m\n\u001b[1;32m    180\u001b[0m         \u001b[0;31m#TODO: check this equation (eqn. 50 in Box 2009) - the typography seems odd\u001b[0m\u001b[0;34m\u001b[0m\u001b[0;34m\u001b[0m\u001b[0;34m\u001b[0m\u001b[0m\n\u001b[0;32m--> 181\u001b[0;31m         \u001b[0mCD_falpha\u001b[0m \u001b[0;34m=\u001b[0m \u001b[0malpha\u001b[0m\u001b[0;34m**\u001b[0m\u001b[0;36m2\u001b[0m \u001b[0;34m*\u001b[0m \u001b[0;34m(\u001b[0m\u001b[0;34m(\u001b[0m\u001b[0;36m1.2\u001b[0m \u001b[0;34m*\u001b[0m \u001b[0mn\u001b[0m\u001b[0;34m*\u001b[0m \u001b[0mA_fp\u001b[0m\u001b[0;34m)\u001b[0m \u001b[0;34m/\u001b[0m \u001b[0;34m(\u001b[0m\u001b[0mnp\u001b[0m\u001b[0;34m.\u001b[0m\u001b[0mpi\u001b[0m \u001b[0;34m*\u001b[0m \u001b[0md_f\u001b[0m\u001b[0;34m**\u001b[0m\u001b[0;36m2\u001b[0m\u001b[0;34m)\u001b[0m \u001b[0;34m+\u001b[0m \u001b[0;36m3.12\u001b[0m\u001b[0;34m*\u001b[0m\u001b[0;34m(\u001b[0m\u001b[0mk_fb\u001b[0m \u001b[0;34m+\u001b[0m \u001b[0mk_bf\u001b[0m \u001b[0;34m-\u001b[0m \u001b[0;36m1\u001b[0m\u001b[0;34m)\u001b[0m\u001b[0;34m*\u001b[0m\u001b[0;34m(\u001b[0m\u001b[0mn\u001b[0m \u001b[0;34m*\u001b[0m \u001b[0mA_fe\u001b[0m\u001b[0;34m)\u001b[0m\u001b[0;34m/\u001b[0m\u001b[0;34m(\u001b[0m\u001b[0mnp\u001b[0m\u001b[0;34m.\u001b[0m\u001b[0mpi\u001b[0m \u001b[0;34m*\u001b[0m \u001b[0md_f\u001b[0m\u001b[0;34m**\u001b[0m\u001b[0;36m2\u001b[0m\u001b[0;34m)\u001b[0m\u001b[0;34m)\u001b[0m\u001b[0;34m\u001b[0m\u001b[0;34m\u001b[0m\u001b[0m\n\u001b[0m\u001b[1;32m    182\u001b[0m \u001b[0;34m\u001b[0m\u001b[0m\n\u001b[1;32m    183\u001b[0m         \u001b[0;32mreturn\u001b[0m \u001b[0mCD_falpha\u001b[0m\u001b[0;34m\u001b[0m\u001b[0;34m\u001b[0m\u001b[0m\n",
      "\u001b[0;31mNameError\u001b[0m: name 'n' is not defined"
     ]
    }
   ],
   "source": [
    "plt.loglog(re_vals, [r.CD(alpha=0*ureg.degree, Re=re, Mach=0.0) for re in re_vals], label='α = 0 degree')\n",
    "plt.loglog(re_vals, [r.CD(alpha=2*ureg.degree, Re=re, Mach=0.0) for re in re_vals], label='α = 2 degree')\n",
    "plt.loglog(re_vals, [r.CD(alpha=5*ureg.degree, Re=re, Mach=0.0) for re in re_vals], label='α = 5 degree')\n",
    "plt.grid()\n",
    "plt.xlabel(\"Re_{L}\")\n",
    "plt.ylabel(\"CD of Rocket\")\n",
    "plt.legend()"
   ]
  },
  {
   "cell_type": "code",
   "execution_count": null,
   "metadata": {},
   "outputs": [],
   "source": [
    "plt.semilogx(re_vals, [r.CD(alpha=0*ureg.degree, Re=re, Mach=0.0) for re in re_vals], label='α = 0 degree')\n",
    "plt.semilogx(re_vals, [r.CD(alpha=2*ureg.degree, Re=re, Mach=0.0) for re in re_vals], label='α = 2 degree')\n",
    "plt.semilogx(re_vals, [r.CD(alpha=5*ureg.degree, Re=re, Mach=0.0) for re in re_vals], label='α = 5 degree')\n",
    "plt.grid()\n",
    "plt.xlabel(\"Re_{L}\")\n",
    "plt.ylabel(\"CD of Rocket\")\n",
    "plt.legend()"
   ]
  },
  {
   "cell_type": "code",
   "execution_count": null,
   "metadata": {},
   "outputs": [],
   "source": [
    "plt.plot(re_vals, [r.CD(alpha=5*ureg.degree, Re=re, Mach=0.0) - r.CD(alpha=0*ureg.degree, Re=re, Mach=0.0) for re in re_vals], label='(α = 5) - (α = 0) degree')\n",
    "plt.grid()\n",
    "plt.xlabel(\"Re_{L}\")\n",
    "plt.ylabel(\"CD of Rocket\")\n",
    "plt.legend()"
   ]
  },
  {
   "cell_type": "code",
   "execution_count": null,
   "metadata": {},
   "outputs": [],
   "source": [
    "np.log10((1.225*300*2)/1.8e-5)"
   ]
  },
  {
   "cell_type": "code",
   "execution_count": null,
   "metadata": {},
   "outputs": [],
   "source": []
  },
  {
   "cell_type": "code",
   "execution_count": null,
   "metadata": {},
   "outputs": [],
   "source": []
  }
 ],
 "metadata": {
  "kernelspec": {
   "display_name": "Python 3",
   "language": "python",
   "name": "python3"
  },
  "language_info": {
   "codemirror_mode": {
    "name": "ipython",
    "version": 3
   },
   "file_extension": ".py",
   "mimetype": "text/x-python",
   "name": "python",
   "nbconvert_exporter": "python",
   "pygments_lexer": "ipython3",
   "version": "3.6.7"
  }
 },
 "nbformat": 4,
 "nbformat_minor": 2
}
