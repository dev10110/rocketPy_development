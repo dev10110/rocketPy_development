{
 "cells": [
  {
   "cell_type": "code",
   "execution_count": 1,
   "metadata": {},
   "outputs": [],
   "source": [
    "import numpy as np\n",
    "\n",
    "import pint\n",
    "ureg = pint.UnitRegistry(system='mks')\n",
    "ureg.setup_matplotlib(True)\n",
    "\n",
    "import matplotlib.pyplot as plt\n",
    "from matplotlib.patches import Polygon\n",
    "\n",
    "from collections.abc import Iterable\n",
    "\n",
    "from prettytable import PrettyTable\n",
    "    \n",
    "\n"
   ]
  },
  {
   "cell_type": "code",
   "execution_count": 2,
   "metadata": {},
   "outputs": [],
   "source": [
    "def si(v):\n",
    "    try:\n",
    "        return v.to_base_units().magnitude\n",
    "    except:\n",
    "        try:\n",
    "            return [si(vv) for vv in v]\n",
    "        except: \n",
    "            raise RuntimeError('Conversion to SI has failed')\n",
    "            \n",
    "def mach_correction(Ma=0.0):\n",
    "    \"\"\"Performs the Prandtl-Glauert compressibility correction.\"\"\"\n",
    "\n",
    "    #my own correction:\n",
    "    beta = max(np.sqrt(abs(1-Ma**2)), np.sqrt(1-0.8**2))\n",
    "    \n",
    "    return 1/beta\n",
    "    \n",
    "    #Follows the formulation of eqn. 55-57 of Box:\n",
    "    #if Ma < 0.8:\n",
    "    #    return 1/np.sqrt(1-Ma**2)\n",
    "    #elif Ma > 1.1:\n",
    "    #    return 1/np.sqrt(Ma**2-1)\n",
    "    #else:\n",
    "    #    return 1/np.sqrt(1-0.8**2)"
   ]
  },
  {
   "cell_type": "code",
   "execution_count": 3,
   "metadata": {},
   "outputs": [],
   "source": [
    "class Rocket():\n",
    "    \n",
    "    def __init__(self, name='Rocket'):\n",
    "\n",
    "        self.name = name\n",
    "            \n",
    "        \n",
    "        self.components = []\n",
    "        \n",
    "        self.nose_cone = None\n",
    "        self.body_tube = None\n",
    "        self.fins = None\n",
    "        self.boat_tail = None\n",
    "        \n",
    "        \n",
    "        self.A_ref = 0*ureg.inch**2\n",
    "        \n",
    "        \n",
    "        return\n",
    "    \n",
    "    def __repr__(self):\n",
    "        return f'{self.name}'\n",
    "     \n",
    "    def add(self, component):\n",
    "        \n",
    "        if isinstance(component, Iterable):\n",
    "            component_unique = [comp for comp in component if comp not in self.components]\n",
    "            self.components.extend(component_unique)\n",
    "        elif component not in self.components:\n",
    "            self.components.append(component)\n",
    "            \n",
    "        return None\n",
    "    \n",
    "    def set_boat_tail(self, component):\n",
    "        \n",
    "        \"\"\"Set the boat tail component\"\"\"\n",
    "        \n",
    "        if component in self.components:\n",
    "            # find the boat tail in the list of components\n",
    "            boat_tail = [comp for comp in self.components if component == comp][0]\n",
    "        else:\n",
    "            boat_tail = component\n",
    "            self.add(component)\n",
    "            \n",
    "        self.boat_tail = boat_tail\n",
    "        \n",
    "        return None\n",
    "    \n",
    "    def set_fins(self, component):\n",
    "        \n",
    "        \"\"\"Set the fin set of the rocket\"\"\"\n",
    "        \n",
    "        if component in self.components:\n",
    "            # find the fins in the list of components\n",
    "            fins = [comp for comp in self.components if component == comp][0]\n",
    "        else:\n",
    "            fins = component\n",
    "            self.add(fins)\n",
    "\n",
    "        self.fins = fins\n",
    "        return None\n",
    "    \n",
    "    def set_nose_cone(self, component):\n",
    "        \n",
    "        \"\"\"Set the nose cone of the rocket\"\"\"\n",
    "        \n",
    "        if component in self.components:\n",
    "        \n",
    "            # find the nc in the list of components\n",
    "            nc = [comp for comp in self.components if component == comp][0]\n",
    "        else:\n",
    "            nc = component\n",
    "            self.add(nc)\n",
    "\n",
    "        self.nose_cone = nc\n",
    "        \n",
    "        # define the A_ref here.\n",
    "        self.A_ref = nc.A_ref\n",
    "        \n",
    "        return None\n",
    "    \n",
    "    def set_body_tube(self, component):\n",
    "        \n",
    "        \"\"\"Set the body tube of the rocket\"\"\"\n",
    "        \n",
    "        if component in self.components:\n",
    "        \n",
    "            # find the body tube in the list of components\n",
    "            bt = [comp for comp in self.components if component == comp][0]\n",
    "        else:\n",
    "            bt = component\n",
    "            self.add(bt)\n",
    "\n",
    "        self.body_tube = bt\n",
    "        \n",
    "        return None\n",
    "        \n",
    "        \n",
    "    def plot(self, ax=None, unit=ureg.m, rotation=0*ureg.degree, plot_component_cp=True,plot_component_cg=True, alpha=0*ureg.degree, Re=1e6, Mach=0.3):\n",
    "        \n",
    "        if not ax:\n",
    "            ax = plt.gca()\n",
    "            \n",
    "        for comp in self.components:\n",
    "            comp.plot(ax, rotation=rotation, unit=unit)\n",
    "     \n",
    "        \n",
    "        if plot_component_cp:\n",
    "            self.plot_cp(ax, unit=unit, alpha=alpha, Re=Re, Mach=Mach)\n",
    "            \n",
    "        if plot_component_cg:\n",
    "            self.plot_cg(ax, unit=unit)\n",
    "            \n",
    "        plt.axis('equal')\n",
    "        plt.grid(True)\n",
    "        plt.xlabel(f'x [{str(unit)}]')\n",
    "        plt.ylabel(f'y or z [{str(unit)}]')\n",
    "        \n",
    "        return ax\n",
    "    \n",
    "    def plot_cp(self, ax=None, unit=ureg.m, alpha=0*ureg.degree, Re=1e6, Mach=0.3):\n",
    "        \n",
    "        if not ax:\n",
    "            ax = plt.gca()\n",
    "        \n",
    "        # plot for components\n",
    "        for comp in self.components:\n",
    "            ax.plot((comp.x_ref+comp.xcp(alpha, Re, Mach)).m_as(unit), 0, 'kx')\n",
    "            \n",
    "        # plot for rocket\n",
    "        ax.plot(self.xcp().m_as(unit), 0, 'rx')\n",
    "        \n",
    "        return ax\n",
    "    \n",
    "    def plot_cg(self, ax=None, unit=ureg.m):\n",
    "        \n",
    "        if not ax:\n",
    "            ax = plt.gca()\n",
    "        \n",
    "        # plot for components\n",
    "        for comp in self.components:\n",
    "            ax.plot((comp.x_ref+comp.xcg()).m_as(unit), 0, 'ko')\n",
    "        \n",
    "        # plot for rocket\n",
    "        ax.plot(self.xcg().m_as(unit), 0, 'ro')\n",
    "        \n",
    "        return ax\n",
    "    \n",
    "    \n",
    "    def length(self):\n",
    "        return sum(comp.length for comp in self.components)\n",
    "    \n",
    "    def CNa(self, alpha=0*ureg.rad, Re=1e6, Mach=0.3):\n",
    "        \n",
    "        CNa = sum(comp.CNa(alpha, Re, Mach) for comp in self.components)\n",
    "        \n",
    "        return CNa\n",
    "    \n",
    "    def CN(self, alpha=0*ureg.rad, Re=1e6, Mach=0.3):\n",
    "        \n",
    "        return self.CNa(alpha, Re, Mach) * alpha\n",
    "        \n",
    "    def xcp(self, alpha=0*ureg.rad, Re=1e6, Mach=0.3):\n",
    "        \n",
    "        xcp = sum(comp.CNa(alpha, Re, Mach) * (comp.A_ref/self.A_ref) * (comp.x_ref + comp.xcp(alpha, Re, Mach)) for comp in self.components) / self.CNa(alpha, Re, Mach)\n",
    "        \n",
    "        return xcp\n",
    "    \n",
    "    def mass(self):\n",
    "        \n",
    "        m = sum(comp.mass for comp in self.components)\n",
    "        \n",
    "        return m\n",
    "    def xcg(self):\n",
    "        \n",
    "        xcg = sum(comp.mass * (comp.x_ref + comp.xcg()) for comp in self.components) / self.mass()\n",
    "        \n",
    "        return xcg\n",
    "    \n",
    "    def inertia(self):\n",
    "            \n",
    "        return self.inertia_xx(), self.inertia_yy(), self.inertia_zz()\n",
    "            \n",
    "    def inertia_xx(self):\n",
    "        \n",
    "        return sum(comp.I_xx + comp.mass*(comp.x_ref + comp.xcg())**2 for comp in self.components)\n",
    "        \n",
    "    def inertia_yy(self):\n",
    "        \n",
    "        return sum(comp.I_yy + comp.mass*(comp.y_ref + comp.ycg())**2 for comp in self.components)\n",
    "    \n",
    "    def inertia_zz(self):\n",
    "        \n",
    "        return sum(comp.I_zz + comp.mass*(comp.z_ref + comp.zcg())**2 for comp in self.components)\n",
    "    \n",
    "    def CD(self, alpha=0*ureg.rad, Re=1e6, Mach=0.3):\n",
    "        \"\"\"Calculate the drag force at some angle of attack, including compressibility\"\"\"\n",
    "        \n",
    "        CD0 = self.CD0(Re)\n",
    "        CD_body_alpha = self.CD_body_alpha(alpha)\n",
    "        if self.fins is not None:\n",
    "            CD_fin_alpha = self.CD_fin_alpha(alpha)\n",
    "        else:\n",
    "            CD_fin_alpha = 0.0\n",
    "        \n",
    "        CD = CD0 + CD_body_alpha + CD_fin_alpha\n",
    "        \n",
    "        # perform a mach number correction\n",
    "        CD = CD*mach_correction(Mach)\n",
    "        \n",
    "        return CD\n",
    "\n",
    "    def CA(self, alpha=0*ureg.rad, Re=1e6, Mach=0.3):\n",
    "        \"\"\"Compute the axial drag force from the normal force and the axial force\"\"\"\n",
    "        \n",
    "        # get 0 mach CD:\n",
    "        CD = self.CD(alpha, Re, Mach)\n",
    "        CN = self.CN(alpha, Re, Mach)\n",
    "        \n",
    "        # eqn. 54 of Box 2009\n",
    "        CA = (CD*np.cos(alpha) - 0.5*CN*np.sin(2*alpha))/(1-np.sin(alpha)**2)\n",
    "        \n",
    "        return CA\n",
    "        \n",
    "        \n",
    "    def CD_body_alpha(self, alpha=0*ureg.rad):\n",
    "        \n",
    "        def delta(alpha):\n",
    "            # in radians (by fitting to Fig. 4 of Box 2009)\n",
    "            # collected raw data: (alpha (deg), delta) = {{4, 0.780021417}, {6, 0.857352918}, {8, 0.92048524}, {10, 0.940041875}, {12, 0.960026851}, {16, 0.975050746}, {18, 0.980015024}}\n",
    "            return 1 - 0.518535*np.exp(-0.00378764*alpha)\n",
    "        \n",
    "        def eta(alpha):\n",
    "            # in radians\n",
    "            return 0.259348*alpha**0.153029\n",
    "        \n",
    "        l_TR = self.length()\n",
    "        l_n = self.nose_cone.length\n",
    "        alpha = alpha.m_as(ureg.rad) # ensure its in radians\n",
    "        \n",
    "        # maximum body diameter of rocket\n",
    "        d_b = max([comp.diameter for comp in self.components if type(comp) is BodyTube])\n",
    "        \n",
    "        \n",
    "        CD_body_alpha = 2*delta(alpha)*alpha**2 + (3.6 * eta(alpha) * ((1.36 * l_TR - 0.55* l_n))/(np.pi * d_b)) * alpha**3\n",
    "        \n",
    "        return CD_body_alpha\n",
    "    \n",
    "    def CD_fin_alpha(self, alpha):\n",
    "        \n",
    "        alpha = alpha.to(ureg.rad).magnitude #ensure its in radians\n",
    "        \n",
    "        A_fp = self.fins.planform_area\n",
    "        A_fe = self.fins.exposed_area\n",
    "        d_f = self.fins.tube_dia\n",
    "        l_TS = d_f + 2*self.fins.span # total fin span\n",
    "        n = self.fins.n\n",
    "        \n",
    "        Rs = l_TS/d_f\n",
    "        \n",
    "        k_fb = 0.8065*Rs**2 + 1.1553*Rs\n",
    "        k_bf = 0.1935*Rs**2 + 0.8174*Rs + 1\n",
    "        \n",
    "        \n",
    "        #TODO: check this equation (eqn. 50 in Box 2009) - the typography seems odd\n",
    "        CD_falpha = alpha**2 * ((1.2 * n * A_fp) / (np.pi * d_f**2) + 3.12*(k_fb + k_bf - 1)*(n * A_fe)/(np.pi * d_f**2))\n",
    "        \n",
    "        return CD_falpha\n",
    "        \n",
    "    def CD0(self, Re=1e6):\n",
    "        \"\"\"Calcualte the zero angle-of-attack incompressible drag of the rocket. \n",
    "        Generally uses DATCOM method (as specified by Box [1])\n",
    "        Reynolds number refers to the reynolds number by the length of the rocket. \"\"\"\n",
    "        \n",
    "        CD0_fb = self.CD0_fb(Re)\n",
    "        CD0_b  = self.CD0_b(Re)\n",
    "        \n",
    "        CD0 = CD0_fb + CD0_b\n",
    "        \n",
    "        if self.fins is not None:\n",
    "            CD0_f  = self.CD0_f(Re)\n",
    "            CD0 = CD0 + CD0_f\n",
    "        \n",
    "        return CD0\n",
    "    \n",
    "    def CD0_fb(self, Re=1e6):\n",
    "        \"\"\"Calcualte the zero-angle of attack drag due to forebody of the rocket\"\"\"\n",
    "        \n",
    "        #total length of the rocket\n",
    "        l_TR = self.length()\n",
    "        \n",
    "        if self.boat_tail is not None:\n",
    "            # length of the boat tail\n",
    "            l_c = self.boat_tail.length\n",
    "            # diameter at boat tail\n",
    "            d_d = self.boat_tail.aft_dia\n",
    "        else:\n",
    "            l_c = 0*ureg.m;\n",
    "            d_d = 0*ureg.m;\n",
    "        \n",
    "        # maximum body diameter of rocket\n",
    "        d_b = max([comp.diameter for comp in self.components if type(comp) is BodyTube])\n",
    "        \n",
    "        # length of body tube\n",
    "        l_b = sum([comp.length for comp in self.components if type(comp) is BodyTube])\n",
    "        \n",
    "        # length of nose cone\n",
    "        l_n = self.nose_cone.length\n",
    "        \n",
    "        # coefficient of friction of fore body\n",
    "        Cf_fb = self.Cf(Re=Re)\n",
    "        \n",
    "        CD0_fb = (1+60/(l_TR/d_b)**3 + 0.0025*(l_b/d_b))*(2.7*(l_n/d_b) + 4*(l_b/d_b) + 2*(1 - d_d/d_b)*(l_c/d_b))*Cf_fb\n",
    "        \n",
    "        return CD0_fb\n",
    "    \n",
    "    def CD0_b(self, Re=1e6):\n",
    "        \"\"\"Calcualte the zero-angle of attack drag due to base drag\"\"\"\n",
    "        # find max dia\n",
    "        d_b = max([comp.diameter for comp in self.components if type(comp) is BodyTube])\n",
    "        \n",
    "        if self.boat_tail is None:\n",
    "            d_d = self.body_tube.diameter\n",
    "        else:    \n",
    "            # find boat dia aft dia\n",
    "            d_d = self.boat_tail.aft_dia\n",
    "            \n",
    "        CD0_b = 0.029*(d_d/d_b)**3/(self.CD0_fb(Re))**0.5\n",
    "            \n",
    "        \n",
    "        return CD0_b\n",
    "    \n",
    "    def CD0_f(self, Re=1e6):\n",
    "        \"\"\"Calcualte the zero-angle of attack drag due to the fins, including the effect of the interference\"\"\"\n",
    "        \n",
    "        if self.fins is None:\n",
    "            raise RuntimeError(\"Please define the fins using rocket.set_fins(fins) first.\")\n",
    "        \n",
    "        l_TR = self.length()\n",
    "        \n",
    "        l_m_fins = self.fins.mid_chord_span\n",
    "        t_f = self.fins.thickness\n",
    "        A_fp = self.fins.planform_area\n",
    "        A_fe = self.fins.exposed_area\n",
    "        d_f = self.fins.tube_dia\n",
    "        n = self.fins.n\n",
    "        \n",
    "        Re_fins = Re*(l_m_fins/l_TR)\n",
    "        Cf_f = self.Cf(Re_fins)\n",
    "        \n",
    "        \n",
    "        CD0_f = 2 * Cf_f * (1 + 2*t_f/l_m_fins) * (4 * n * (2*A_fp - A_fe)) / (np.pi * d_f**2)\n",
    "        \n",
    "        return CD0_f\n",
    "        \n",
    "    \n",
    "    def Cf(self, Re=1e6):\n",
    "        \"\"\"Return the viscous friction coefficient at a Reynolds number\"\"\"\n",
    "        \n",
    "        Re_c = 5e5; #critical reynolds number for transition\n",
    "        \n",
    "        if Re < Re_c:\n",
    "            \n",
    "            Cf = 1.328/np.sqrt(Re)\n",
    "            \n",
    "            return Cf\n",
    "        \n",
    "        else:\n",
    "            B = Re_c*(0.074*Re**(-0.2) - 1.328*Re**(-0.5))\n",
    "            \n",
    "            Cf = 0.074*Re**(-0.2) - B/Re\n",
    "            \n",
    "            return Cf\n",
    "        \n",
    "    def describe(self):\n",
    "        \n",
    "\n",
    "        print(f'Rocket: {self.name}')\n",
    "        print()\n",
    "        \n",
    "        print('Rocket Details')\n",
    "        \n",
    "        x1 = PrettyTable()\n",
    "        \n",
    "        x1.field_names = [\"Parameter\", \"Value\", \"Notes\"]\n",
    "        \n",
    "        try:\n",
    "            x1.add_row([\"Total Mass\", f'{self.mass():.4f~}', \"\"])\n",
    "        except:\n",
    "            x1.add_row([\"Total Mass\", 'ERROR', \"\"])\n",
    "        \n",
    "        try:\n",
    "            x1.add_row([\"Total Length\", f'{self.length():.4f~}', \"\"])\n",
    "        except:\n",
    "            x1.add_row([\"Total Length\", 'ERROR', \"\"])\n",
    "        \n",
    "        try:\n",
    "            x1.add_row([\"X_CG\", f'{self.xcg():4f~}', \"\"])\n",
    "        except:\n",
    "            x1.add_row([\"X_CG\", 'ERROR', \"\"])\n",
    "        \n",
    "        try:\n",
    "            x1.add_row([\"X_CP\", f'{self.xcp():.4f~}', \"At default values\"])\n",
    "        except:\n",
    "            x1.add_row([\"X_CP\", 'ERROR', \"At default values\"])\n",
    "        \n",
    "        try:\n",
    "            x1.add_row([\"CD\", f'{self.CD():.4f~}',\"At default values\"])\n",
    "        except:\n",
    "            x1.add_row([\"CD\", 'ERROR',\"At default values\"])\n",
    "        \n",
    "        try:\n",
    "            x1.add_row([\"CNa\", f'{self.CNa():.4f~}',\"At default values\"])\n",
    "        except:\n",
    "            x1.add_row([\"CNa\", 'ERROR',\"At default values\"])\n",
    "        \n",
    "        print(x1)\n",
    "        \n",
    "        print()\n",
    "        \n",
    "        print('Component Details')\n",
    "        \n",
    "        m = self.mass()\n",
    "        \n",
    "        x2 = PrettyTable()\n",
    "        x2.field_names = [\"Component\", \"Type\", \"Material\", \"Mass\", \"Mass Fraction %\", \"CNa\"]\n",
    "        for comp in self.components:\n",
    "            x2.add_row([comp.name, comp.__class__.__name__, comp.material.name, f'{comp.mass:5.2f~}', f'{100*comp.mass/m:.2f}', f'{comp.CNa():.3f~}'])\n",
    "            \n",
    "        print(x2)"
   ]
  },
  {
   "cell_type": "code",
   "execution_count": 4,
   "metadata": {},
   "outputs": [],
   "source": [
    "class Component():\n",
    "    \n",
    "    def __init__(self, name='Component', mass=None, inertia = None):\n",
    "        \n",
    "        self.name = name\n",
    "        \n",
    "        # mass properties\n",
    "        if callable(mass):\n",
    "            self.mass = mass()\n",
    "        elif mass is None:\n",
    "            self.mass = self.estimate_mass()\n",
    "        else:\n",
    "            self.mass = mass\n",
    "            \n",
    "        self.mass = self.mass.to(ureg.kg)\n",
    "            \n",
    "        # moment of inertias\n",
    "        # assumed to be 0 initially, but should be replaced\n",
    "        if callable(inertia):\n",
    "            self.I_xx, self.I_yy, self.I_zz = inertia()\n",
    "        elif mass is None:\n",
    "            self.I_xx, self.I_yy, self.I_zz = self.estimate_inertia()\n",
    "        else:\n",
    "            self.I_xx, self.I_yy, self.I_zz = inertia\n",
    "\n",
    "        \n",
    "        # this is the leading reference coordinate of the component, x is along rocket axis, increasing from nose backwards. \n",
    "        self.x_ref = 0*ureg.meter\n",
    "        self.y_ref = 0*ureg.meter\n",
    "        self.z_ref = 0*ureg.meter\n",
    "        \n",
    "        # reference area to be used for drag and lift force calculations. \n",
    "        self.A_ref = None\n",
    "        \n",
    "    \n",
    "    def estimate_mass(self):\n",
    "        \"\"\"Generic method to estimate the mass of the component - assume mass is 0.\n",
    "        This method should be overridden for each component specified\"\"\"\n",
    "        return 0.0*ureg.kg\n",
    "    \n",
    "    def estimate_inertia(self):\n",
    "        \"\"\"Generic method to estimate the mass of the component - assume inertia is 0.\n",
    "        This method should be overridden for each component specified\"\"\"\n",
    "        \n",
    "        return (0.0*ureg.kg*(ureg.m**2), 0.0*ureg.kg*(ureg.m**2), 0.0*ureg.kg*(ureg.m**2))\n",
    "    \n",
    "    def set_position(self, start_of=None, end_of=None, middle_of=None, after=None, offset=0*ureg.m):\n",
    "        \n",
    "        if start_of is not None:\n",
    "            \n",
    "            self.x_ref = start_of.x_ref + offset\n",
    "            \n",
    "            return\n",
    "        \n",
    "        elif end_of is not None:\n",
    "            \n",
    "            self.x_ref = end_of.x_ref + end_of.length  - self.length + offset\n",
    "            \n",
    "            return\n",
    "        \n",
    "        elif middle_of is not None:\n",
    "            \n",
    "            self.x_ref = middle_of.x_ref + middle_of.length/2 - self.length/2  + offset\n",
    "            \n",
    "            return\n",
    "        \n",
    "        elif after is not None:\n",
    "            \n",
    "            self.x_ref = after.x_ref + after.length  + offset\n",
    "            \n",
    "            return\n",
    "        \n",
    "        else:\n",
    "            raise ValueError('The location must be specified')\n",
    "            \n",
    "    \n",
    "    def __repr__(self):\n",
    "        return f'{self.name} (type: {self.__class__.__name__})'\n",
    "    \n",
    "    \n",
    "    def plot(self, ax=None, rotation=0*ureg.degree, unit=ureg.m):\n",
    "        \n",
    "        if ax is None:\n",
    "            ax = plt.gca()\n",
    "        \n",
    "        for coords in self.plot_coords(rotation=rotation):\n",
    "            \n",
    "            if coords is not None:\n",
    "                \n",
    "                # convert to specified units\n",
    "                coords2 = np.array([[c[i].m_as(unit) for i in [0,1]] for c in coords])\n",
    "                \n",
    "                poly = Polygon(coords2, facecolor='none',edgecolor='k')\n",
    "\n",
    "                ax.add_patch(poly)\n",
    "        \n",
    "        plt.axis('equal')\n",
    "        plt.grid(True)\n",
    "        plt.xlabel(f'x [{str(unit)}]')\n",
    "        plt.ylabel(f'y or z [{str(unit)}]')\n",
    "        return ax\n",
    "    \n",
    "    def plot_coords(self):\n",
    "        return None\n",
    "    \n",
    "    def xcp(self, *args):\n",
    "        \n",
    "        return 0*ureg.m\n",
    "    \n",
    "    def xcg(self, *args):\n",
    "        \n",
    "        return 0*ureg.m\n",
    "    \n",
    "    def ycg(self, *args):\n",
    "        \n",
    "        return 0*ureg.m\n",
    "    \n",
    "    def zcg(self, *args):\n",
    "        \n",
    "        return 0*ureg.m\n",
    "    \n",
    "    def describe(self):\n",
    "        \n",
    "        print(self)\n",
    "        \n",
    "        x = PrettyTable()\n",
    "        \n",
    "        x.field_names = [\"Parameter\", \"Value (SI)\", \"Value\"]\n",
    "        \n",
    "        for d in self.__dict__:\n",
    "            try:\n",
    "                x.add_row([d, f'{self.__dict__[d].to_base_units():.3f~}',f'{self.__dict__[d]:.3f~}'])\n",
    "            except:\n",
    "                x.add_row([d, self.__dict__[d], \"\"])\n",
    "        print(x)\n",
    "    \n",
    "    \n",
    "    "
   ]
  },
  {
   "cell_type": "code",
   "execution_count": null,
   "metadata": {},
   "outputs": [],
   "source": []
  },
  {
   "cell_type": "code",
   "execution_count": 5,
   "metadata": {},
   "outputs": [],
   "source": [
    "class InternalComponent(Component):\n",
    "    \n",
    "    def __init__(self, name='Internal Component', mass=None, inertia=None):\n",
    "        \n",
    "        super().__init__(name=name, mass=mass, inertia=inertia)\n",
    "        \n",
    "    def CN(self, alpha=0*ureg.rad, Re=1e6, Mach=0.3):\n",
    "        \n",
    "        return 0.0\n",
    "        \n",
    "class ExternalComponent(Component):\n",
    "    \n",
    "    def __init__(self, name='External Component', mass=None, inertia=None, A_ref = np.pi*(3*ureg.inch)**2):\n",
    "        \n",
    "        super().__init__(name=name, mass=mass, inertia=inertia)\n",
    "        \n",
    "        self.A_ref = A_ref\n",
    "        \n",
    "    def CNa(self, alpha=0*ureg.rad, Re=1e6, Mach=0.3):\n",
    "        \n",
    "        return 0.0/ureg.rad\n",
    "        \n",
    "    def CN(self, alpha=0*ureg.rad, Re=1e6, Mach=0.3):\n",
    "        \n",
    "        return self.CNa(alpha, Re, Mach)*alpha\n",
    "        "
   ]
  },
  {
   "cell_type": "code",
   "execution_count": 6,
   "metadata": {},
   "outputs": [],
   "source": [
    "class Cylinder(InternalComponent):\n",
    "    \n",
    "    def __init__(self, name='Internal Cylinder', mass=None, inertia=None, diameter=6*ureg.inch, length = 6*ureg.inch, density=None):\n",
    "        super().__init__(name = name, mass = mass, inertia = inertia)\n",
    "        \n",
    "        self.diameter = diameter\n",
    "        self.length = length\n",
    "        self.density = density\n",
    "        \n",
    "    \n",
    "    def estimate_mass(self):\n",
    "        if not self.density.check(ureg.kg/(ureg.m**3)): \n",
    "            raise ValueError('Density must have the right units')\n",
    "\n",
    "        V = np.pi*(self.diameter/2)**2 * self.length\n",
    "        \n",
    "        m = self.density * V \n",
    "        \n",
    "        return m\n",
    "    \n",
    "    def estimate_inertia(self):\n",
    "        \n",
    "        m = self.mass\n",
    "        r = self.diameter/2\n",
    "        h = self.length\n",
    "        \n",
    "        I_xx = 0.5 * m * r**2\n",
    "        I_yy = (1/12) * m * (3*r**2 + h**2)\n",
    "        \n",
    "        #note, I_yy = I_zz\n",
    "        return I_xx, I_yy, I_yy\n",
    "        "
   ]
  },
  {
   "cell_type": "code",
   "execution_count": 7,
   "metadata": {},
   "outputs": [],
   "source": [
    "class Material():\n",
    "    \n",
    "    def __init__(self, name):\n",
    "        \n",
    "        self.name = name\n",
    "        \n",
    "        self.density = 0*ureg.km/(ureg.m**3)\n",
    "        \n",
    "        \n",
    "    def __repr__(self):\n",
    "        \n",
    "        return f'{self.name}: (Material))'\n",
    "        \n",
    "class Aluminium(Material):\n",
    "    \n",
    "    def __init__(self, name='Al-6061-T6'):\n",
    "        \n",
    "        super().__init__(name=name)\n",
    "        \n",
    "        self.density = 2.7*ureg.g/(ureg.cm**3)\n",
    "        self.tensile_mod = 69*ureg.GPa\n",
    "        self.tensile_strength = 270*ureg.MPa\n",
    "        self.max_temp = 420*ureg.degK\n",
    "        \n",
    "        \n",
    "class PLA(Material):\n",
    "    \n",
    "    def __init__(self, name='PLA'):\n",
    "        \n",
    "        super().__init__(name=name)\n",
    "        \n",
    "        self.density = 1.05*ureg.g/(ureg.cm**3)\n",
    "\n",
    "        \n",
    "class Phenolic(Material):\n",
    "    \n",
    "    def __init__(self, name='Phenolic'):\n",
    "        \n",
    "        super().__init__(name=name)\n",
    "        \n",
    "        self.density = 0.95*ureg.g/(ureg.cm**3)\n",
    "\n",
    "class Acrylic(Material):\n",
    "    \n",
    "    def __init__(self, name='Acrylic'):\n",
    "        \n",
    "        super().__init__(name=name)\n",
    "        \n",
    "        self.density = 1.19*ureg.g/(ureg.cm**3)\n",
    "        \n",
    "class Plywood(Material):\n",
    "    \n",
    "    def __init__(self, name='Plywood'):\n",
    "        \n",
    "        super().__init__(name=name)\n",
    "        \n",
    "        self.density = 0.63*ureg.g/(ureg.cm**3)\n",
    "\n",
    "class Polycarbonate(Material):\n",
    "    \n",
    "    def __init__(self, name='Polycarbonate'):\n",
    "        \n",
    "        super().__init__(name=name)\n",
    "        \n",
    "        self.density = 1.2*ureg.g/(ureg.cm**3)"
   ]
  },
  {
   "cell_type": "code",
   "execution_count": 100,
   "metadata": {},
   "outputs": [],
   "source": [
    "class NoseCone(ExternalComponent):\n",
    "    \n",
    "    def __init__(self, name='Nose Cone', mass=None, inertia=None, shape='Conical', diameter=None, length=None, fineness=None, wall_thickness=2*ureg.mm, material=None):\n",
    "        # note, the plotting currently assumes its a conical nose. \n",
    "        \n",
    "        # use the base diameter for the reference area\n",
    "        A_ref = np.pi*diameter**2 / 4\n",
    "            \n",
    "        self.shape = shape\n",
    "        \n",
    "        self.x_ref = 0*ureg.m\n",
    "\n",
    "        if diameter and length:\n",
    "            self.diameter = diameter\n",
    "            self.length = length\n",
    "        elif diameter and fineness:\n",
    "            self.diameter = diameter\n",
    "            self.length = fineness*self.diameter     \n",
    "        elif length and diameter:\n",
    "            self.length = length\n",
    "            self.diameter = length/fineness\n",
    "            \n",
    "        self.wall_thickness = wall_thickness\n",
    "        self.material = material\n",
    "        \n",
    "        super().__init__(name=name, mass=mass, inertia=inertia, A_ref=A_ref)\n",
    "        \n",
    "    def estimate_mass(self):\n",
    "        \"\"\"Method to estimate the mass of the nose cone\"\"\"\n",
    "        \n",
    "        L = self.length\n",
    "        R = self.diameter/2\n",
    "        t = self.wall_thickness\n",
    "        rho = self.material.density\n",
    "        \n",
    "        return rho*t*L*np.pi*R\n",
    "    def estimate_inertia(self):\n",
    "        \n",
    "        L = self.length\n",
    "        R = self.diameter/2\n",
    "        t = self.wall_thickness\n",
    "        m = self.mass\n",
    "        \n",
    "        I_xx = m*(R**2/2)\n",
    "        I_yy = m*(L**2/18)\n",
    "        \n",
    "        \n",
    "        return I_xx, I_yy, I_yy\n",
    "        \n",
    "        \n",
    "        \n",
    "        \n",
    "    def xcg(self):\n",
    "        \n",
    "        return (2/3)*self.length    \n",
    "        \n",
    "        \n",
    "    def CNa(self, alpha=0*ureg.rad, Re=1e6, Mach=0.3):\n",
    "        # eq 25 of [1]\n",
    "        \n",
    "        CNa_incomp = 2/(1*ureg.rad) # per radian\n",
    "        \n",
    "        CNa = CNa_incomp*mach_correction(Mach)\n",
    "        \n",
    "        return CNa\n",
    "    \n",
    "    def xcp(self, alpha=0*ureg.rad, Re=1e6, Mach=0.3):\n",
    "        \n",
    "        # at the moment we assume the Xcp doesnt change with Mach\n",
    "        \n",
    "        if self.shape == 'Conical':\n",
    "            return (2/3)*self.length\n",
    "        elif self.shape == 'Ogive':\n",
    "            return (5/8)*self.length\n",
    "        elif self.shape == 'Parabolic':\n",
    "            return (3/5)*self.length\n",
    "        else:\n",
    "            raise RuntimeError('Please set the nose cone shape to a supported string')\n",
    "    \n",
    "    def plot_coords(self,rotation=0*ureg.degree):\n",
    "        \n",
    "        l = self.length\n",
    "        r = self.diameter/2\n",
    "        \n",
    "        coords = [[0*ureg.m, 0*ureg.m], [l, r], [l, -r]]\n",
    "        \n",
    "        coords_shift = [[self.x_ref + c[0], c[1]] for c in coords]\n",
    "        \n",
    "        yield coords_shift\n",
    "    \n",
    "class Transition(ExternalComponent):\n",
    "    \n",
    "    def __init__(self, name = 'Transition', mass=None, inertia=None, fore_dia=None, aft_dia=None, length=None, wall_thickness=2*ureg.mm, material=None):\n",
    "        \n",
    "        # use the base diameter for the reference area\n",
    "        self.A_ref = np.pi*fore_dia**2 / 4\n",
    "        \n",
    "        self.fore_dia = fore_dia\n",
    "        self.aft_dia = aft_dia\n",
    "        self.d_ref = 2*(self.A_ref/np.pi)**0.5\n",
    "        self.length = length\n",
    "        self.wall_thickness = wall_thickness\n",
    "        self.material = material\n",
    "        \n",
    "        super().__init__(name=name, mass=mass, inertia=inertia, A_ref=self.A_ref)\n",
    "        \n",
    "    def estimate_mass(self):\n",
    "        \n",
    "        r0 = self.fore_dia/2\n",
    "        r1 = self.aft_dia/2\n",
    "        L = self.length\n",
    "        t = self.wall_thickness\n",
    "        rho = self.material.density\n",
    "        \n",
    "        \n",
    "        m = rho*L*(np.pi*(r0+r1))*t\n",
    "        \n",
    "        return m\n",
    "    \n",
    "    def estimate_inertia(self):\n",
    "        \n",
    "        L = self.length\n",
    "        r0 = self.fore_dia/2\n",
    "        r1 = self.aft_dia/2\n",
    "        m = self.mass\n",
    "        \n",
    "        I_xx = m*(0.5*(r0**2 + r1**2))\n",
    "        \n",
    "        I_yy = m*(L**2*(r0**2 + 4*r0*r1 + r1**2))/(18*(r0 + r1)**2)\n",
    "\n",
    "        return I_xx, I_yy, I_yy\n",
    "    \n",
    "    def xcg(self):\n",
    "        \n",
    "        r0 = self.fore_dia/2\n",
    "        r1 = self.aft_dia/2\n",
    "        L = self.length\n",
    "        \n",
    "        return (L/3)*(r0+2*r1)/(r0+r1)\n",
    "    \n",
    "    def CNa(self, alpha=0*ureg.rad, Re=1e6, Mach=0.3):\n",
    "        \n",
    "        CNa_incomp = 2*((self.aft_dia/self.d_ref)**2 - (self.fore_dia/self.d_ref)**2) / (1*ureg.rad)\n",
    "        \n",
    "        CNa = CNa_incomp*mach_correction(Mach)\n",
    "        \n",
    "        return CNa\n",
    "        \n",
    "    def xcp(self, alpha=0*ureg.rad, Re=1e6, Mach=0.3):\n",
    "        \n",
    "        d_fore = self.fore_dia\n",
    "        d_aft = self.aft_dia\n",
    "        \n",
    "        #eqn 40 of ref[1]\n",
    "        return (self.length/3) * ((d_fore + 2 * d_aft)/(d_fore + d_aft))\n",
    "    \n",
    "    def plot_coords(self,rotation=0*ureg.degree):\n",
    "        \n",
    "        l = self.length\n",
    "        fore_r = self.fore_dia/2\n",
    "        aft_r = self.aft_dia/2\n",
    "        \n",
    "        coords = [[0*ureg.m, fore_r], [l, aft_r], [l, -aft_r],[0*ureg.m, -fore_r]]\n",
    "        \n",
    "        coords_shifted = [[self.x_ref + c[0], c[1]] for c in coords]\n",
    "        \n",
    "        yield coords_shifted\n",
    "    \n",
    "\n",
    "class BodyTube(ExternalComponent):\n",
    "    \n",
    "    \n",
    "    def __init__(self, name = 'Body Tube', mass=None, inertia=None, diameter=None, length=None, wall_thickness=2*ureg.mm, material=None):\n",
    "        \n",
    "        self.A_ref = np.pi*diameter**2 / 4\n",
    "        self.d_ref = diameter\n",
    "        self.diameter = diameter\n",
    "        self.length = length\n",
    "        self.wall_thickness = wall_thickness\n",
    "        self.material = material\n",
    "        \n",
    "        super().__init__(name=name, mass=mass, inertia=inertia, A_ref=self.A_ref)\n",
    "    \n",
    "    def estimate_mass(self):\n",
    "        \n",
    "        r0 = self.diameter/2\n",
    "        L = self.length\n",
    "        t = self.wall_thickness\n",
    "        rho = self.material.density\n",
    "        \n",
    "        m = 2*rho*L*np.pi*r0*t\n",
    "        \n",
    "        return m\n",
    "    \n",
    "    def estimate_inertia(self):\n",
    "        \n",
    "        m = self.mass\n",
    "        r0 = self.diameter/2\n",
    "        L = self.length\n",
    "        \n",
    "        I_xx = m*r0**2\n",
    "        \n",
    "        I_yy = m*(L**2/12)\n",
    "  \n",
    "        # note Iyy=Izz\n",
    "        return I_xx, I_yy, I_yy\n",
    "    \n",
    "    def xcg(self):\n",
    "        \n",
    "        return self.length/2\n",
    "        \n",
    "    def plot_coords(self,rotation=0*ureg.degree):\n",
    "        \n",
    "        l = self.length\n",
    "        r = self.diameter/2\n",
    "        \n",
    "        coords = [[0*ureg.m, r], [l, r], [l, -r],[0*ureg.m, -r]]\n",
    "    \n",
    "        coords_shifted = [[self.x_ref + c[0], c[1]] for c in coords]\n",
    "            \n",
    "        yield coords_shifted\n",
    "    \n",
    "        \n",
    "    def CNa(self, alpha=0*ureg.rad, Re=1e6, Mach=0.3, K=1.1):\n",
    "        \n",
    "        planform_area = self.diameter * self.length\n",
    "        \n",
    "        CNa_incomp = (K*planform_area/self.A_ref) * alpha /((1*ureg.rad)**2)\n",
    "    \n",
    "        CNa = CNa_incomp*mach_correction(Mach)\n",
    "        \n",
    "        return CNa\n",
    "    \n",
    "    def xcp(self, alpha=0*ureg.rad, Re=1e6, Mach=0.3):\n",
    "        \n",
    "        return self.length/2\n",
    "    \n",
    "    \n",
    "        \n",
    "    \n",
    "class FinSet(ExternalComponent):\n",
    "    \n",
    "    def __init__(self, name = 'Fins', mass = None, inertia = None, n=None, span=None, root_chord=None, tip_chord=None, mid_sweep=None, tube_dia = None, thickness=None, material=None):\n",
    "        \n",
    "        # midsweep is the sweep angle at the mid-chord locations\n",
    "        \n",
    "        self.A_ref = np.pi*tube_dia**2 / 4\n",
    "        \n",
    "        self.d_ref = 2*(self.A_ref/np.pi)**0.5\n",
    "        \n",
    "        self.n = n\n",
    "        self.span = span\n",
    "        self.root_chord = root_chord\n",
    "        self.tip_chord = tip_chord\n",
    "        self.mid_sweep = mid_sweep\n",
    "        self.mid_chord_span = self.span/np.cos(self.mid_sweep)\n",
    "        \n",
    "        self.tube_dia = tube_dia\n",
    "        self.length = 0*ureg.m # used in calculating the overall length of the rocket\n",
    "        self.thickness = thickness\n",
    "        \n",
    "        self.exposed_area = 0.5 * (self.root_chord + self.tip_chord) * self.span # per fin\n",
    "        self.planform_area = self.exposed_area + 0.5 * self.tube_dia * self.root_chord # per fin        \n",
    "        \n",
    "        self.material = material\n",
    "        \n",
    "        super().__init__(name=name, mass=mass, inertia=inertia, A_ref=self.A_ref)\n",
    "    \n",
    "    def estimate_mass(self):\n",
    "        \n",
    "        n = self.n\n",
    "        A = self.exposed_area\n",
    "        t = self.thickness\n",
    "        \n",
    "        rho = self.material.density\n",
    "        \n",
    "        m = n * A * t * rho\n",
    "        \n",
    "        return m\n",
    "    \n",
    "    def xcg(self):\n",
    "        \n",
    "        # using mathematica\n",
    "        \n",
    "        cr = self.root_chord\n",
    "        ct = self.tip_chord\n",
    "        s = self.span\n",
    "        r0 = self.tube_dia/2\n",
    "        gamma = self.leading_sweep()\n",
    "        \n",
    "        xcg = (cr**2 + cr*ct + ct**2 + (3*(cr + ct)*r0 + (cr + 2*ct)*s)*np.tan(gamma))/(3*(cr + ct))\n",
    "        \n",
    "        return xcg\n",
    "        \n",
    "    def estimate_inertia(self):\n",
    "        \n",
    "        r0 = self.tube_dia/2\n",
    "        cr = self.root_chord\n",
    "        ct = self.tube_dia\n",
    "        s = self.span\n",
    "        m = self.mass\n",
    "        gamma = self.leading_sweep()\n",
    "        \n",
    "        #I_xx_m is I_xx/m\n",
    "        #this is for a single fin, but since I'm scaling it by the number of fins, its all good. \n",
    "        I_xx_m = r0**2 + (2*(cr + 2*ct)*r0*s)/(3*(cr + ct))+((cr + 3*ct)*s**2)/(6*(cr+ct))\n",
    "        I_xx = m * I_xx_m\n",
    "        \n",
    "        \n",
    "        I_yy_m = (1/(18*(cr + ct)**2))*(cr**4 + 2*cr**3*ct + 2*cr*ct**3 + ct**4 - (cr**2 + 4*cr*ct + ct**2) * s * np.tan(gamma) * (cr - ct - s*np.tan(gamma)))\n",
    "        I_yy = m * I_yy_m\n",
    "        \n",
    "        return I_xx, I_yy, I_yy\n",
    "    \n",
    "    def leading_sweep(self):\n",
    "        \"\"\"Return the leading edge sweep of the fins\"\"\"\n",
    "        \n",
    "        lr = self.root_chord\n",
    "        lt = self.tip_chord\n",
    "        ls = self.span\n",
    "        sweep = self.mid_sweep\n",
    "        \n",
    "        tip_le = lr/2 + ls*np.tan(sweep) - lt/2 #tip leading edge\n",
    "        \n",
    "        leading_sweep = np.arctan(tip_le/ls)\n",
    "        \n",
    "        return leading_sweep\n",
    "            \n",
    "    def CNa(self, alpha=0*ureg.rad, Re=1e6, Mach=0.3):\n",
    "        \n",
    "        if self.n <= 4:\n",
    "            body_influence = 1 +     (self.tube_dia/2)/(self.span + self.tube_dia/2)\n",
    "        elif self.n > 4:\n",
    "            body_influence = 1 + 0.5*(self.tube_dia/2)/(self.span + self.tube_dia/2)\n",
    "        \n",
    "        CNa_incomp = (body_influence * (4*self.n*(self.span/self.d_ref)**2) / (1 + (1 + (self.mid_chord_span/(self.root_chord + self.tip_chord))**2)**0.5) ) / (1*ureg.rad)\n",
    "        \n",
    "        CNa = CNa_incomp * mach_correction(Mach)\n",
    "        \n",
    "        return CNa\n",
    "    \n",
    "    def xcp(self, alpha=0*ureg.rad, Re=1e6, Mach=0.3):\n",
    "        \n",
    "        lm = self.mid_chord_span\n",
    "        lr = self.root_chord\n",
    "        lt = self.tip_chord\n",
    "        \n",
    "        a = lm * (lr + lt) / (3 * (lr + lt))\n",
    "        b = (1/6) * (lr + lt - (lr*lt)/(lr + lt))\n",
    "        \n",
    "        return a + b\n",
    "    \n",
    "    def plot_coords(self, rotation=0*ureg.rad):  \n",
    "        \n",
    "        r = self.tube_dia/2\n",
    "        lr = self.root_chord\n",
    "        lt = self.tip_chord\n",
    "        lm = self.mid_chord_span\n",
    "        ls = self.span\n",
    "        sweep = self.mid_sweep\n",
    "        \n",
    "        tip_le = lr/2 + ls*np.tan(sweep) - lt/2 #tip leading edge\n",
    "        \n",
    "        x_ref = self.x_ref\n",
    "        \n",
    "        coords_single = [[x_ref, r, 0*ureg.m], [x_ref + tip_le , r + ls, 0*ureg.m], [x_ref + tip_le + lt, r + ls, 0*ureg.m], [x_ref + lr, r, 0*ureg.m]]\n",
    "        \n",
    "        coords_single_si = np.array([[si(cc) for cc in c] for c in coords_single])\n",
    "        \n",
    "        th_set = np.linspace(0, 2*np.pi, self.n, endpoint=False)\n",
    "        \n",
    "        poly_set = []\n",
    "\n",
    "        for th in th_set:\n",
    "            \n",
    "            th2 = th + rotation.m_as(ureg.rad)\n",
    "            \n",
    "            R2 = np.array([[1, 0, 0], [0, np.cos(th2), -np.sin(th2)]])\n",
    "            \n",
    "            coords_rotated = (R2 @ coords_single_si.T).T\n",
    "            \n",
    "            coords_units = [[c[0]*ureg.m, c[1]*ureg.m] for c in coords_rotated]\n",
    "            \n",
    "            yield coords_units\n",
    "        \n",
    "        \n",
    "    \n",
    "    #references:\n",
    "    #[1]: Simon Box, 2009, Estimating the dynamic and aerodynamic paramters of passively controlled high power rockets for flight simulaton\n",
    "        "
   ]
  },
  {
   "cell_type": "markdown",
   "metadata": {},
   "source": [
    "# Example Usage"
   ]
  },
  {
   "cell_type": "code",
   "execution_count": 101,
   "metadata": {},
   "outputs": [
    {
     "data": {
      "text/plain": [
       "Sample Rocket"
      ]
     },
     "execution_count": 101,
     "metadata": {},
     "output_type": "execute_result"
    }
   ],
   "source": [
    "r = Rocket('Sample Rocket')\n",
    "r"
   ]
  },
  {
   "cell_type": "code",
   "execution_count": 102,
   "metadata": {},
   "outputs": [
    {
     "data": {
      "text/plain": [
       "Nose Cone (type: NoseCone)"
      ]
     },
     "execution_count": 102,
     "metadata": {},
     "output_type": "execute_result"
    }
   ],
   "source": [
    "# create a nose cone\n",
    "nc = NoseCone(mass=None, inertia=None, diameter=6*ureg.inch, length=18*ureg.inch, wall_thickness=6*ureg.mm, material=PLA())\n",
    "# assign it to the rocket\n",
    "r.set_nose_cone(nc)\n",
    "nc"
   ]
  },
  {
   "cell_type": "code",
   "execution_count": 103,
   "metadata": {},
   "outputs": [
    {
     "data": {
      "text/html": [
       "\\[0.6895275375558748\\ kilogram\\]"
      ],
      "text/latex": [
       "$0.6895275375558748\\ \\mathrm{kilogram}$"
      ],
      "text/plain": [
       "0.6895275375558748 <Unit('kilogram')>"
      ]
     },
     "execution_count": 103,
     "metadata": {},
     "output_type": "execute_result"
    }
   ],
   "source": [
    "nc.mass.to(ureg.kg)"
   ]
  },
  {
   "cell_type": "code",
   "execution_count": 104,
   "metadata": {},
   "outputs": [
    {
     "data": {
      "text/html": [
       "\\[0.008007400550331866\\ kilogram\\ meter^2\\]"
      ],
      "text/latex": [
       "$0.008007400550331866\\ \\mathrm{kilogram} \\cdot \\mathrm{meter}^{2}$"
      ],
      "text/plain": [
       "0.008007400550331866 <Unit('kilogram * meter ** 2')>"
      ]
     },
     "execution_count": 104,
     "metadata": {},
     "output_type": "execute_result"
    }
   ],
   "source": [
    "nc.I_zz.to_base_units()"
   ]
  },
  {
   "cell_type": "code",
   "execution_count": 105,
   "metadata": {},
   "outputs": [
    {
     "data": {
      "text/plain": [
       "PLA: (Material))"
      ]
     },
     "execution_count": 105,
     "metadata": {},
     "output_type": "execute_result"
    }
   ],
   "source": [
    "nc.material"
   ]
  },
  {
   "cell_type": "code",
   "execution_count": 106,
   "metadata": {},
   "outputs": [
    {
     "data": {
      "image/png": "[encoded data removed]",
      "text/plain": [
       "<Figure size 432x288 with 1 Axes>"
      ]
     },
     "metadata": {
      "needs_background": "light"
     },
     "output_type": "display_data"
    }
   ],
   "source": [
    "# plot the nose cone\n",
    "fig = plt.figure()\n",
    "ax = plt.gca()\n",
    "#the pint functionality to apply a unit does not currently work\n",
    "#ax.yaxis.set_units(ureg.meters)\n",
    "#ax.xaxis.set_units(ureg.inches)\n",
    "nc.plot(ax, unit=ureg.cm);"
   ]
  },
  {
   "cell_type": "code",
   "execution_count": 107,
   "metadata": {},
   "outputs": [
    {
     "data": {
      "text/plain": [
       "<matplotlib.axes._subplots.AxesSubplot at 0x114ac75f8>"
      ]
     },
     "execution_count": 107,
     "metadata": {},
     "output_type": "execute_result"
    },
    {
     "data": {
      "image/png": "[encoded data removed]",
      "text/plain": [
       "<Figure size 432x288 with 1 Axes>"
      ]
     },
     "metadata": {
      "needs_background": "light"
     },
     "output_type": "display_data"
    }
   ],
   "source": [
    "nc.plot(rotation=0*ureg.degree)\n",
    "nc.plot(rotation=60*ureg.degree)\n"
   ]
  },
  {
   "cell_type": "code",
   "execution_count": 108,
   "metadata": {},
   "outputs": [
    {
     "data": {
      "text/plain": [
       "<matplotlib.axes._subplots.AxesSubplot at 0x114d9f748>"
      ]
     },
     "execution_count": 108,
     "metadata": {},
     "output_type": "execute_result"
    },
    {
     "data": {
      "image/png": "[encoded data removed]",
      "text/plain": [
       "<Figure size 432x288 with 1 Axes>"
      ]
     },
     "metadata": {
      "needs_background": "light"
     },
     "output_type": "display_data"
    }
   ],
   "source": [
    "r.plot()"
   ]
  },
  {
   "cell_type": "code",
   "execution_count": 109,
   "metadata": {},
   "outputs": [
    {
     "data": {
      "text/html": [
       "\\[0\\ meter\\]"
      ],
      "text/latex": [
       "$0\\ \\mathrm{meter}$"
      ],
      "text/plain": [
       "0 <Unit('meter')>"
      ]
     },
     "execution_count": 109,
     "metadata": {},
     "output_type": "execute_result"
    }
   ],
   "source": [
    "nc.x_ref"
   ]
  },
  {
   "cell_type": "code",
   "execution_count": 110,
   "metadata": {},
   "outputs": [
    {
     "data": {
      "text/plain": [
       "[3.1028739190014365 <Unit('inch ** 2 * kilogram')>]"
      ]
     },
     "execution_count": 110,
     "metadata": {},
     "output_type": "execute_result"
    }
   ],
   "source": [
    "[comp.I_xx for comp in r.components]"
   ]
  },
  {
   "cell_type": "code",
   "execution_count": 111,
   "metadata": {},
   "outputs": [
    {
     "data": {
      "text/html": [
       "\\[0.4193139346887673\\ dimensionless\\]"
      ],
      "text/latex": [
       "$0.4193139346887673\\ dimensionless$"
      ],
      "text/plain": [
       "0.4193139346887673 <Unit('dimensionless')>"
      ]
     },
     "execution_count": 111,
     "metadata": {},
     "output_type": "execute_result"
    }
   ],
   "source": [
    "# determine the normal force coefficient at some alpha\n",
    "nc.CN(alpha=0.2*ureg.rad)"
   ]
  },
  {
   "cell_type": "code",
   "execution_count": 112,
   "metadata": {},
   "outputs": [
    {
     "data": {
      "text/html": [
       "\\[0.30479999999999996\\ meter\\]"
      ],
      "text/latex": [
       "$0.30479999999999996\\ \\mathrm{meter}$"
      ],
      "text/plain": [
       "0.30479999999999996 <Unit('meter')>"
      ]
     },
     "execution_count": 112,
     "metadata": {},
     "output_type": "execute_result"
    }
   ],
   "source": [
    "nc.xcp().to(ureg.m)"
   ]
  },
  {
   "cell_type": "code",
   "execution_count": 113,
   "metadata": {},
   "outputs": [
    {
     "name": "stdout",
     "output_type": "stream",
     "text": [
      "Body Tube (type: BodyTube)\n"
     ]
    }
   ],
   "source": [
    "# create a body tube\n",
    "bt = BodyTube(name = 'Body Tube', mass =None, inertia=None, diameter=6*ureg.inch, length=48*ureg.inch, wall_thickness=2*ureg.mm, material=Phenolic())\n",
    "\n",
    "# define its location\n",
    "bt.set_position(after=nc)\n",
    "\n",
    "# assign to the rocket\n",
    "r.set_body_tube(bt)\n",
    "print(bt)"
   ]
  },
  {
   "cell_type": "code",
   "execution_count": 114,
   "metadata": {},
   "outputs": [
    {
     "data": {
      "text/plain": [
       "<matplotlib.axes._subplots.AxesSubplot at 0x114bde208>"
      ]
     },
     "execution_count": 114,
     "metadata": {},
     "output_type": "execute_result"
    },
    {
     "data": {
      "image/png": "[encoded data removed]",
      "text/plain": [
       "<Figure size 432x288 with 1 Axes>"
      ]
     },
     "metadata": {
      "needs_background": "light"
     },
     "output_type": "display_data"
    }
   ],
   "source": [
    "# plot the rocket so far\n",
    "r.plot(plot_component_cg=True, unit=ureg.m)"
   ]
  },
  {
   "cell_type": "code",
   "execution_count": 115,
   "metadata": {},
   "outputs": [
    {
     "data": {
      "text/html": [
       "\\[0.21919957929450035\\ dimensionless\\]"
      ],
      "text/latex": [
       "$0.21919957929450035\\ dimensionless$"
      ],
      "text/plain": [
       "0.21919957929450035 <Unit('dimensionless')>"
      ]
     },
     "execution_count": 115,
     "metadata": {},
     "output_type": "execute_result"
    }
   ],
   "source": [
    "r.CD()"
   ]
  },
  {
   "cell_type": "code",
   "execution_count": 116,
   "metadata": {},
   "outputs": [
    {
     "name": "stdout",
     "output_type": "stream",
     "text": [
      "Rocket: Sample Rocket\n",
      "\n",
      "Rocket Details\n",
      "+--------------+--------------+-------------------+\n",
      "|  Parameter   |    Value     |       Notes       |\n",
      "+--------------+--------------+-------------------+\n",
      "|  Total Mass  |  1.7986 kg   |                   |\n",
      "| Total Length |  66.0000 in  |                   |\n",
      "|     X_CG     |  0.774674 m  |                   |\n",
      "|     X_CP     |   0.3048 m   | At default values |\n",
      "|      CD      |    0.2192    | At default values |\n",
      "|     CNa      | 2.0966 / rad | At default values |\n",
      "+--------------+--------------+-------------------+\n",
      "\n",
      "Component Details\n",
      "+-----------+----------+----------+---------------+---------------------+----------------+\n",
      "| Component |   Type   | Material |      Mass     |   Mass Fraction %   |      CNa       |\n",
      "+-----------+----------+----------+---------------+---------------------+----------------+\n",
      "| Nose Cone | NoseCone |   PLA    | 0.69 kilogram | 38.34 dimensionless | 2.097 / radian |\n",
      "| Body Tube | BodyTube | Phenolic | 1.11 kilogram | 61.66 dimensionless | 0.000 / radian |\n",
      "+-----------+----------+----------+---------------+---------------------+----------------+\n"
     ]
    }
   ],
   "source": [
    "r.describe()"
   ]
  },
  {
   "cell_type": "code",
   "execution_count": 117,
   "metadata": {},
   "outputs": [
    {
     "data": {
      "text/html": [
       "\\[1.05\\ gram/centimeter^3\\]"
      ],
      "text/latex": [
       "$1.05\\ \\frac{\\mathrm{gram}}{\\mathrm{centimeter}^{3}}$"
      ],
      "text/plain": [
       "1.05 <Unit('gram / centimeter ** 3')>"
      ]
     },
     "execution_count": 117,
     "metadata": {},
     "output_type": "execute_result"
    }
   ],
   "source": [
    "PLA().density"
   ]
  },
  {
   "cell_type": "code",
   "execution_count": 118,
   "metadata": {},
   "outputs": [
    {
     "data": {
      "text/html": [
       "\\[11.999999999999998\\ inch\\]"
      ],
      "text/latex": [
       "$11.999999999999998\\ \\mathrm{inch}$"
      ],
      "text/plain": [
       "11.999999999999998 <Unit('inch')>"
      ]
     },
     "execution_count": 118,
     "metadata": {},
     "output_type": "execute_result"
    }
   ],
   "source": [
    "r.xcp().to(ureg.inch)"
   ]
  },
  {
   "cell_type": "code",
   "execution_count": 119,
   "metadata": {},
   "outputs": [
    {
     "data": {
      "text/plain": [
       "Boat Tail (type: Transition)"
      ]
     },
     "execution_count": 119,
     "metadata": {},
     "output_type": "execute_result"
    }
   ],
   "source": [
    "# create a boat tail\n",
    "boat_tail = Transition(name='Boat Tail',mass=None, inertia=None, fore_dia=6*ureg.inch, aft_dia=4*ureg.inch, length=4*ureg.inch, material=Phenolic())\n",
    "boat_tail.set_position(after=bt)\n",
    "r.set_boat_tail(boat_tail)\n",
    "boat_tail"
   ]
  },
  {
   "cell_type": "code",
   "execution_count": 120,
   "metadata": {},
   "outputs": [
    {
     "data": {
      "text/html": [
       "\\[-1.1647609296910202\\ 1/radian\\]"
      ],
      "text/latex": [
       "$-1.1647609296910202\\ \\frac{1}{\\mathrm{radian}}$"
      ],
      "text/plain": [
       "-1.1647609296910202 <Unit('1 / radian')>"
      ]
     },
     "execution_count": 120,
     "metadata": {},
     "output_type": "execute_result"
    }
   ],
   "source": [
    "# get the normal force coefficient for the boat tail.\n",
    "boat_tail.CNa()"
   ]
  },
  {
   "cell_type": "code",
   "execution_count": 121,
   "metadata": {},
   "outputs": [
    {
     "data": {
      "text/html": [
       "\\[-57.833333333333336\\ inch\\]"
      ],
      "text/latex": [
       "$-57.833333333333336\\ \\mathrm{inch}$"
      ],
      "text/plain": [
       "-57.833333333333336 <Unit('inch')>"
      ]
     },
     "execution_count": 121,
     "metadata": {},
     "output_type": "execute_result"
    }
   ],
   "source": [
    "r.xcp().to(ureg.inch)"
   ]
  },
  {
   "cell_type": "code",
   "execution_count": 122,
   "metadata": {},
   "outputs": [
    {
     "data": {
      "text/plain": [
       "Fins (type: FinSet)"
      ]
     },
     "execution_count": 122,
     "metadata": {},
     "output_type": "execute_result"
    }
   ],
   "source": [
    "# create the fins\n",
    "fins = FinSet(name='Fins', mass=None, inertia=None, n=3, span=6*ureg.inch, root_chord=12*ureg.inch, tip_chord=6*ureg.inch, mid_sweep=10*ureg.degree, tube_dia=6*ureg.inch,  thickness=2*ureg.mm, material=Aluminium())\n",
    "\n",
    "fins.set_position(end_of=bt, offset=-fins.root_chord)\n",
    "# assign fins to the rocket\n",
    "r.set_fins(fins)\n",
    "fins"
   ]
  },
  {
   "cell_type": "code",
   "execution_count": 123,
   "metadata": {},
   "outputs": [
    {
     "data": {
      "text/html": [
       "\\[34.0715499842578\\ degree\\]"
      ],
      "text/latex": [
       "$34.0715499842578\\ \\mathrm{degree}$"
      ],
      "text/plain": [
       "34.0715499842578 <Unit('degree')>"
      ]
     },
     "execution_count": 123,
     "metadata": {},
     "output_type": "execute_result"
    }
   ],
   "source": [
    "fins.leading_sweep().to(ureg.deg)"
   ]
  },
  {
   "cell_type": "code",
   "execution_count": 124,
   "metadata": {
    "scrolled": false
   },
   "outputs": [
    {
     "data": {
      "text/plain": [
       "<matplotlib.axes._subplots.AxesSubplot at 0x114dae6d8>"
      ]
     },
     "execution_count": 124,
     "metadata": {},
     "output_type": "execute_result"
    },
    {
     "data": {
      "image/png": "[encoded data removed]",
      "text/plain": [
       "<Figure size 1080x720 with 1 Axes>"
      ]
     },
     "metadata": {
      "needs_background": "light"
     },
     "output_type": "display_data"
    }
   ],
   "source": [
    "# plot the entire rocket\n",
    "fig = plt.figure(figsize=(15,10))\n",
    "ax = plt.gca()\n",
    "r.plot(ax, rotation=5*ureg.degree, plot_component_cp=True,plot_component_cg=True, unit=ureg.inch)"
   ]
  },
  {
   "cell_type": "code",
   "execution_count": 125,
   "metadata": {},
   "outputs": [
    {
     "data": {
      "text/plain": [
       "[Nose Cone (type: NoseCone),\n",
       " Body Tube (type: BodyTube),\n",
       " Boat Tail (type: Transition),\n",
       " Fins (type: FinSet)]"
      ]
     },
     "execution_count": 125,
     "metadata": {},
     "output_type": "execute_result"
    }
   ],
   "source": [
    "# its also a good idea to do a check of the components list:\n",
    "r.components"
   ]
  },
  {
   "cell_type": "code",
   "execution_count": 126,
   "metadata": {},
   "outputs": [
    {
     "name": "stdout",
     "output_type": "stream",
     "text": [
      "70.0 inch\n",
      "1.778 meter\n"
     ]
    }
   ],
   "source": [
    "# and the total length of the rocket\n",
    "print(r.length())\n",
    "print(r.length().to_base_units())"
   ]
  },
  {
   "cell_type": "code",
   "execution_count": 127,
   "metadata": {},
   "outputs": [
    {
     "data": {
      "text/html": [
       "\\[46.45383871765168\\ inch\\]"
      ],
      "text/latex": [
       "$46.45383871765168\\ \\mathrm{inch}$"
      ],
      "text/plain": [
       "46.45383871765168 <Unit('inch')>"
      ]
     },
     "execution_count": 127,
     "metadata": {},
     "output_type": "execute_result"
    }
   ],
   "source": [
    "# query some parameters of the rocket\n",
    "r.xcp().to(ureg.inch)"
   ]
  },
  {
   "cell_type": "code",
   "execution_count": 128,
   "metadata": {},
   "outputs": [
    {
     "data": {
      "text/html": [
       "\\[39.08028999315459\\ inch\\]"
      ],
      "text/latex": [
       "$39.08028999315459\\ \\mathrm{inch}$"
      ],
      "text/plain": [
       "39.08028999315459 <Unit('inch')>"
      ]
     },
     "execution_count": 128,
     "metadata": {},
     "output_type": "execute_result"
    }
   ],
   "source": [
    "r.xcg().to(ureg.inch)"
   ]
  },
  {
   "cell_type": "code",
   "execution_count": 129,
   "metadata": {},
   "outputs": [
    {
     "data": {
      "text/html": [
       "\\[9.090739119947763\\ 1/radian\\]"
      ],
      "text/latex": [
       "$9.090739119947763\\ \\frac{1}{\\mathrm{radian}}$"
      ],
      "text/plain": [
       "9.090739119947763 <Unit('1 / radian')>"
      ]
     },
     "execution_count": 129,
     "metadata": {},
     "output_type": "execute_result"
    }
   ],
   "source": [
    "r.CNa()"
   ]
  },
  {
   "cell_type": "code",
   "execution_count": 130,
   "metadata": {},
   "outputs": [
    {
     "data": {
      "text/plain": [
       "[Nose Cone (type: NoseCone),\n",
       " Body Tube (type: BodyTube),\n",
       " Boat Tail (type: Transition),\n",
       " Fins (type: FinSet)]"
      ]
     },
     "execution_count": 130,
     "metadata": {},
     "output_type": "execute_result"
    }
   ],
   "source": [
    "r.components"
   ]
  },
  {
   "cell_type": "code",
   "execution_count": 131,
   "metadata": {},
   "outputs": [
    {
     "data": {
      "text/html": [
       "\\[12.0\\ inch\\]"
      ],
      "text/latex": [
       "$12.0\\ \\mathrm{inch}$"
      ],
      "text/plain": [
       "12.0 <Unit('inch')>"
      ]
     },
     "execution_count": 131,
     "metadata": {},
     "output_type": "execute_result"
    }
   ],
   "source": [
    "r.components[0].xcp()"
   ]
  },
  {
   "cell_type": "code",
   "execution_count": 132,
   "metadata": {
    "scrolled": false
   },
   "outputs": [
    {
     "name": "stdout",
     "output_type": "stream",
     "text": [
      "Rocket: Sample Rocket\n",
      "\n",
      "Rocket Details\n",
      "+--------------+--------------+-------------------+\n",
      "|  Parameter   |    Value     |       Notes       |\n",
      "+--------------+--------------+-------------------+\n",
      "|  Total Mass  |  2.4400 kg   |                   |\n",
      "| Total Length |  70.0000 in  |                   |\n",
      "|     X_CG     |  0.992639 m  |                   |\n",
      "|     X_CP     |   1.1799 m   | At default values |\n",
      "|      CD      |    0.2894    | At default values |\n",
      "|     CNa      | 9.0907 / rad | At default values |\n",
      "+--------------+--------------+-------------------+\n",
      "\n",
      "Component Details\n",
      "+-----------+------------+------------+---------------+---------------------+-----------------+\n",
      "| Component |    Type    |  Material  |      Mass     |   Mass Fraction %   |       CNa       |\n",
      "+-----------+------------+------------+---------------+---------------------+-----------------+\n",
      "| Nose Cone |  NoseCone  |    PLA     | 0.69 kilogram | 28.26 dimensionless |  2.097 / radian |\n",
      "| Body Tube |  BodyTube  |  Phenolic  | 1.11 kilogram | 45.45 dimensionless |  0.000 / radian |\n",
      "| Boat Tail | Transition |  Phenolic  | 0.08 kilogram |  3.16 dimensionless | -1.165 / radian |\n",
      "|    Fins   |   FinSet   | Al-6061-T6 | 0.56 kilogram | 23.13 dimensionless |  8.159 / radian |\n",
      "+-----------+------------+------------+---------------+---------------------+-----------------+\n"
     ]
    }
   ],
   "source": [
    "r.describe()"
   ]
  },
  {
   "cell_type": "code",
   "execution_count": 133,
   "metadata": {},
   "outputs": [
    {
     "data": {
      "text/html": [
       "\\[6.0\\ inch\\]"
      ],
      "text/latex": [
       "$6.0\\ \\mathrm{inch}$"
      ],
      "text/plain": [
       "6.0 <Unit('inch')>"
      ]
     },
     "execution_count": 133,
     "metadata": {},
     "output_type": "execute_result"
    }
   ],
   "source": [
    "2*(fins.A_ref/np.pi)**0.5"
   ]
  },
  {
   "cell_type": "code",
   "execution_count": 134,
   "metadata": {},
   "outputs": [
    {
     "data": {
      "text/html": [
       "\\[39.08028999315459\\ inch\\]"
      ],
      "text/latex": [
       "$39.08028999315459\\ \\mathrm{inch}$"
      ],
      "text/plain": [
       "39.08028999315459 <Unit('inch')>"
      ]
     },
     "execution_count": 134,
     "metadata": {},
     "output_type": "execute_result"
    }
   ],
   "source": [
    "r.xcg().to(ureg.inch)"
   ]
  },
  {
   "cell_type": "code",
   "execution_count": 135,
   "metadata": {},
   "outputs": [
    {
     "data": {
      "text/html": [
       "\\[46.45383871765168\\ inch\\]"
      ],
      "text/latex": [
       "$46.45383871765168\\ \\mathrm{inch}$"
      ],
      "text/plain": [
       "46.45383871765168 <Unit('inch')>"
      ]
     },
     "execution_count": 135,
     "metadata": {},
     "output_type": "execute_result"
    }
   ],
   "source": [
    "r.xcp().to(ureg.inch)"
   ]
  },
  {
   "cell_type": "code",
   "execution_count": 136,
   "metadata": {},
   "outputs": [
    {
     "data": {
      "text/plain": [
       "[2.9989414457845047 <Unit('kilogram * meter ** 2')>,\n",
       " 0.14821907254566177 <Unit('kilogram * meter ** 2')>,\n",
       " 0.14821907254566177 <Unit('kilogram * meter ** 2')>]"
      ]
     },
     "execution_count": 136,
     "metadata": {},
     "output_type": "execute_result"
    }
   ],
   "source": [
    "[i.to_base_units() for i in r.inertia()]"
   ]
  },
  {
   "cell_type": "code",
   "execution_count": 137,
   "metadata": {
    "scrolled": false
   },
   "outputs": [
    {
     "name": "stdout",
     "output_type": "stream",
     "text": [
      "Fins (type: FinSet)\n",
      "+----------------+-------------------------+---------------------+\n",
      "|   Parameter    |        Value (SI)       |        Value        |\n",
      "+----------------+-------------------------+---------------------+\n",
      "|     A_ref      |       0.018 m ** 2      |    28.274 in ** 2   |\n",
      "|     d_ref      |         0.152 m         |       6.000 in      |\n",
      "|       n        |            3            |                     |\n",
      "|      span      |         0.152 m         |       6.000 in      |\n",
      "|   root_chord   |         0.305 m         |      12.000 in      |\n",
      "|   tip_chord    |         0.152 m         |       6.000 in      |\n",
      "|   mid_sweep    |        0.175 rad        |      10.000 deg     |\n",
      "| mid_chord_span |         0.155 m         |       6.093 in      |\n",
      "|    tube_dia    |         0.152 m         |       6.000 in      |\n",
      "|     length     |         0.000 m         |       0.000 m       |\n",
      "|   thickness    |         0.002 m         |       2.000 mm      |\n",
      "|  exposed_area  |       0.035 m ** 2      |    54.000 in ** 2   |\n",
      "| planform_area  |       0.058 m ** 2      |    90.000 in ** 2   |\n",
      "|    material    | Al-6061-T6: (Material)) |                     |\n",
      "|      name      |           Fins          |                     |\n",
      "|      mass      |         0.564 kg        |       0.564 kg      |\n",
      "|      I_xx      |    0.013 kg * m ** 2    | 19.754 in ** 2 * kg |\n",
      "|      I_yy      |    0.003 kg * m ** 2    |  4.284 in ** 2 * kg |\n",
      "|      I_zz      |    0.003 kg * m ** 2    |  4.284 in ** 2 * kg |\n",
      "|     x_ref      |         1.372 m         |       1.372 m       |\n",
      "|     y_ref      |         0.000 m         |       0.000 m       |\n",
      "|     z_ref      |         0.000 m         |       0.000 m       |\n",
      "+----------------+-------------------------+---------------------+\n"
     ]
    }
   ],
   "source": [
    "fins.describe()"
   ]
  },
  {
   "cell_type": "code",
   "execution_count": 138,
   "metadata": {
    "scrolled": false
   },
   "outputs": [
    {
     "name": "stdout",
     "output_type": "stream",
     "text": [
      "Nose Cone (type: NoseCone)\n",
      "+----------------+-------------------+---------------------+\n",
      "|   Parameter    |     Value (SI)    |        Value        |\n",
      "+----------------+-------------------+---------------------+\n",
      "|     shape      |      Conical      |                     |\n",
      "|     x_ref      |      0.000 m      |       0.000 m       |\n",
      "|    diameter    |      0.152 m      |       6.000 in      |\n",
      "|     length     |      0.457 m      |      18.000 in      |\n",
      "| wall_thickness |      0.006 m      |       6.000 mm      |\n",
      "|    material    |  PLA: (Material)) |                     |\n",
      "|      name      |     Nose Cone     |                     |\n",
      "|      mass      |      0.690 kg     |       0.690 kg      |\n",
      "|      I_xx      | 0.002 kg * m ** 2 |  3.103 in ** 2 * kg |\n",
      "|      I_yy      | 0.008 kg * m ** 2 | 12.411 in ** 2 * kg |\n",
      "|      I_zz      | 0.008 kg * m ** 2 | 12.411 in ** 2 * kg |\n",
      "|     y_ref      |      0.000 m      |       0.000 m       |\n",
      "|     z_ref      |      0.000 m      |       0.000 m       |\n",
      "|     A_ref      |    0.018 m ** 2   |    28.274 in ** 2   |\n",
      "+----------------+-------------------+---------------------+\n",
      "Body Tube (type: BodyTube)\n",
      "+----------------+-----------------------+----------------------+\n",
      "|   Parameter    |       Value (SI)      |        Value         |\n",
      "+----------------+-----------------------+----------------------+\n",
      "|     A_ref      |      0.018 m ** 2     |    28.274 in ** 2    |\n",
      "|     d_ref      |        0.152 m        |       6.000 in       |\n",
      "|    diameter    |        0.152 m        |       6.000 in       |\n",
      "|     length     |        1.219 m        |      48.000 in       |\n",
      "| wall_thickness |        0.002 m        |       2.000 mm       |\n",
      "|    material    | Phenolic: (Material)) |                      |\n",
      "|      name      |       Body Tube       |                      |\n",
      "|      mass      |        1.109 kg       |       1.109 kg       |\n",
      "|      I_xx      |   0.006 kg * m ** 2   |  9.982 in ** 2 * kg  |\n",
      "|      I_yy      |   0.137 kg * m ** 2   | 212.944 in ** 2 * kg |\n",
      "|      I_zz      |   0.137 kg * m ** 2   | 212.944 in ** 2 * kg |\n",
      "|     x_ref      |        0.457 m        |       0.457 m        |\n",
      "|     y_ref      |        0.000 m        |       0.000 m        |\n",
      "|     z_ref      |        0.000 m        |       0.000 m        |\n",
      "+----------------+-----------------------+----------------------+\n",
      "Boat Tail (type: Transition)\n",
      "+----------------+-----------------------+--------------------+\n",
      "|   Parameter    |       Value (SI)      |       Value        |\n",
      "+----------------+-----------------------+--------------------+\n",
      "|     A_ref      |      0.018 m ** 2     |   28.274 in ** 2   |\n",
      "|    fore_dia    |        0.152 m        |      6.000 in      |\n",
      "|    aft_dia     |        0.102 m        |      4.000 in      |\n",
      "|     d_ref      |        0.152 m        |      6.000 in      |\n",
      "|     length     |        0.102 m        |      4.000 in      |\n",
      "| wall_thickness |        0.002 m        |      2.000 mm      |\n",
      "|    material    | Phenolic: (Material)) |                    |\n",
      "|      name      |       Boat Tail       |                    |\n",
      "|      mass      |        0.077 kg       |      0.077 kg      |\n",
      "|      I_xx      |   0.000 kg * m ** 2   | 0.501 in ** 2 * kg |\n",
      "|      I_yy      |   0.000 kg * m ** 2   | 0.101 in ** 2 * kg |\n",
      "|      I_zz      |   0.000 kg * m ** 2   | 0.101 in ** 2 * kg |\n",
      "|     x_ref      |        1.676 m        |      1.676 m       |\n",
      "|     y_ref      |        0.000 m        |      0.000 m       |\n",
      "|     z_ref      |        0.000 m        |      0.000 m       |\n",
      "+----------------+-----------------------+--------------------+\n",
      "Fins (type: FinSet)\n",
      "+----------------+-------------------------+---------------------+\n",
      "|   Parameter    |        Value (SI)       |        Value        |\n",
      "+----------------+-------------------------+---------------------+\n",
      "|     A_ref      |       0.018 m ** 2      |    28.274 in ** 2   |\n",
      "|     d_ref      |         0.152 m         |       6.000 in      |\n",
      "|       n        |            3            |                     |\n",
      "|      span      |         0.152 m         |       6.000 in      |\n",
      "|   root_chord   |         0.305 m         |      12.000 in      |\n",
      "|   tip_chord    |         0.152 m         |       6.000 in      |\n",
      "|   mid_sweep    |        0.175 rad        |      10.000 deg     |\n",
      "| mid_chord_span |         0.155 m         |       6.093 in      |\n",
      "|    tube_dia    |         0.152 m         |       6.000 in      |\n",
      "|     length     |         0.000 m         |       0.000 m       |\n",
      "|   thickness    |         0.002 m         |       2.000 mm      |\n",
      "|  exposed_area  |       0.035 m ** 2      |    54.000 in ** 2   |\n",
      "| planform_area  |       0.058 m ** 2      |    90.000 in ** 2   |\n",
      "|    material    | Al-6061-T6: (Material)) |                     |\n",
      "|      name      |           Fins          |                     |\n",
      "|      mass      |         0.564 kg        |       0.564 kg      |\n",
      "|      I_xx      |    0.013 kg * m ** 2    | 19.754 in ** 2 * kg |\n",
      "|      I_yy      |    0.003 kg * m ** 2    |  4.284 in ** 2 * kg |\n",
      "|      I_zz      |    0.003 kg * m ** 2    |  4.284 in ** 2 * kg |\n",
      "|     x_ref      |         1.372 m         |       1.372 m       |\n",
      "|     y_ref      |         0.000 m         |       0.000 m       |\n",
      "|     z_ref      |         0.000 m         |       0.000 m       |\n",
      "+----------------+-------------------------+---------------------+\n"
     ]
    }
   ],
   "source": [
    "for comp in r.components:\n",
    "    comp.describe()"
   ]
  },
  {
   "cell_type": "code",
   "execution_count": 139,
   "metadata": {},
   "outputs": [
    {
     "data": {
      "text/plain": [
       "1.778"
      ]
     },
     "execution_count": 139,
     "metadata": {},
     "output_type": "execute_result"
    }
   ],
   "source": [
    "si(sum(comp.length for comp in r.components))"
   ]
  },
  {
   "cell_type": "code",
   "execution_count": 47,
   "metadata": {},
   "outputs": [
    {
     "data": {
      "text/plain": [
       "[Nose Cone (type: NoseCone),\n",
       " Body Tube (type: BodyTube),\n",
       " Boat Tail (type: Transition),\n",
       " Fins (type: FinSet)]"
      ]
     },
     "execution_count": 47,
     "metadata": {},
     "output_type": "execute_result"
    }
   ],
   "source": [
    "r.components"
   ]
  },
  {
   "cell_type": "code",
   "execution_count": 48,
   "metadata": {},
   "outputs": [
    {
     "name": "stderr",
     "output_type": "stream",
     "text": [
      "/Users/Devansh/anaconda3/lib/python3.6/site-packages/ipykernel_launcher.py:2: DeprecationWarning: Array protocol attribute __array_interface__ accessed, with unit of the Quantity being stripped. This attribute will become unavailable in the next minor version of Pint. To make this potentially incorrect attribute unavailable now, set the PINT_ARRAY_PROTOCOL_FALLBACK environment variable to 0 before importing Pint.\n",
      "  \n"
     ]
    }
   ],
   "source": [
    "alphas = np.linspace(0, 20)*ureg.degree\n",
    "CNs = np.array([bt.CN(alpha) for alpha in alphas])"
   ]
  },
  {
   "cell_type": "code",
   "execution_count": 49,
   "metadata": {},
   "outputs": [
    {
     "data": {
      "image/png": "[encoded data removed]",
      "text/plain": [
       "<Figure size 432x288 with 1 Axes>"
      ]
     },
     "metadata": {
      "needs_background": "light"
     },
     "output_type": "display_data"
    }
   ],
   "source": [
    "plt.plot(alphas.to(ureg.degree), CNs)\n",
    "plt.grid();\n",
    "plt.xlabel('Alpha (deg)');\n",
    "plt.ylabel('Normal Force Coefficient');"
   ]
  },
  {
   "cell_type": "code",
   "execution_count": 50,
   "metadata": {},
   "outputs": [
    {
     "data": {
      "image/png": "[encoded data removed]",
      "text/plain": [
       "<Figure size 432x288 with 1 Axes>"
      ]
     },
     "metadata": {
      "needs_background": "light"
     },
     "output_type": "display_data"
    }
   ],
   "source": [
    "re_vals = np.logspace(4, 9)\n",
    "plt.loglog(re_vals, [r.Cf(re) for re in re_vals])\n",
    "plt.xlabel('Reynolds Number')\n",
    "plt.ylabel('Viscous Friction Coefficient')\n",
    "plt.grid()"
   ]
  },
  {
   "cell_type": "code",
   "execution_count": 51,
   "metadata": {},
   "outputs": [
    {
     "data": {
      "text/html": [
       "\\[0.27602978094764624\\ dimensionless\\]"
      ],
      "text/latex": [
       "$0.27602978094764624\\ dimensionless$"
      ],
      "text/plain": [
       "0.27602978094764624 <Unit('dimensionless')>"
      ]
     },
     "execution_count": 51,
     "metadata": {},
     "output_type": "execute_result"
    }
   ],
   "source": [
    "# try to get the zero-angle of attack drag coefficient\n",
    "r.CD0()"
   ]
  },
  {
   "cell_type": "code",
   "execution_count": 52,
   "metadata": {},
   "outputs": [
    {
     "data": {
      "text/plain": [
       "Text(0, 0.5, 'CD0 of Rocket')"
      ]
     },
     "execution_count": 52,
     "metadata": {},
     "output_type": "execute_result"
    },
    {
     "data": {
      "image/png": "[encoded data removed]",
      "text/plain": [
       "<Figure size 432x288 with 1 Axes>"
      ]
     },
     "metadata": {
      "needs_background": "light"
     },
     "output_type": "display_data"
    }
   ],
   "source": [
    "# plot this as a function of the drag coefficient\n",
    "plt.semilogx(re_vals, [r.CD0(re) for re in re_vals])\n",
    "plt.grid()\n",
    "plt.xlabel(\"Re_{L}\")\n",
    "plt.ylabel(\"CD0 of Rocket\")"
   ]
  },
  {
   "cell_type": "code",
   "execution_count": 53,
   "metadata": {},
   "outputs": [
    {
     "data": {
      "text/plain": [
       "<matplotlib.legend.Legend at 0x111daf588>"
      ]
     },
     "execution_count": 53,
     "metadata": {},
     "output_type": "execute_result"
    },
    {
     "data": {
      "image/png": "[encoded data removed]",
      "text/plain": [
       "<Figure size 432x288 with 1 Axes>"
      ]
     },
     "metadata": {
      "needs_background": "light"
     },
     "output_type": "display_data"
    }
   ],
   "source": [
    "plt.semilogx(re_vals, [r.CD(alpha=0*ureg.degree, Re=re, Mach=0.0) for re in re_vals], label='α = 0 degree')\n",
    "plt.semilogx(re_vals, [r.CD(alpha=2*ureg.degree, Re=re, Mach=0.0) for re in re_vals], label='α = 2 degree')\n",
    "plt.semilogx(re_vals, [r.CD(alpha=5*ureg.degree, Re=re, Mach=0.0) for re in re_vals], label='α = 5 degree')\n",
    "plt.grid()\n",
    "plt.xlabel(\"Re_{L}\")\n",
    "plt.ylabel(\"CD of Rocket\")\n",
    "plt.legend()"
   ]
  },
  {
   "cell_type": "code",
   "execution_count": 54,
   "metadata": {},
   "outputs": [
    {
     "data": {
      "text/plain": [
       "<matplotlib.legend.Legend at 0x10f13f278>"
      ]
     },
     "execution_count": 54,
     "metadata": {},
     "output_type": "execute_result"
    },
    {
     "data": {
      "image/png": "[encoded data removed]",
      "text/plain": [
       "<Figure size 432x288 with 1 Axes>"
      ]
     },
     "metadata": {
      "needs_background": "light"
     },
     "output_type": "display_data"
    }
   ],
   "source": [
    "plt.semilogx(re_vals, [r.CD(alpha=0*ureg.degree, Re=re, Mach=0.3) for re in re_vals], label='α = 0 degree')\n",
    "plt.semilogx(re_vals, [r.CD(alpha=2*ureg.degree, Re=re, Mach=0.3) for re in re_vals], label='α = 2 degree')\n",
    "plt.semilogx(re_vals, [r.CD(alpha=5*ureg.degree, Re=re, Mach=0.3) for re in re_vals], label='α = 5 degree')\n",
    "plt.grid()\n",
    "plt.xlabel(\"Re_{L}\")\n",
    "plt.ylabel(\"CD of Rocket\")\n",
    "plt.legend()"
   ]
  },
  {
   "cell_type": "code",
   "execution_count": 55,
   "metadata": {},
   "outputs": [
    {
     "data": {
      "text/plain": [
       "7.611014833980889"
      ]
     },
     "execution_count": 55,
     "metadata": {},
     "output_type": "execute_result"
    }
   ],
   "source": [
    "np.log10((1.225*300*2)/1.8e-5)"
   ]
  },
  {
   "cell_type": "code",
   "execution_count": 56,
   "metadata": {},
   "outputs": [
    {
     "data": {
      "text/plain": [
       "<matplotlib.legend.Legend at 0x111d1e128>"
      ]
     },
     "execution_count": 56,
     "metadata": {},
     "output_type": "execute_result"
    },
    {
     "data": {
      "image/png": "[encoded data removed]",
      "text/plain": [
       "<Figure size 432x288 with 1 Axes>"
      ]
     },
     "metadata": {
      "needs_background": "light"
     },
     "output_type": "display_data"
    }
   ],
   "source": [
    "alpha_vals = np.linspace(0,5)*ureg.degree\n",
    "plt.plot(alpha_vals, [r.CD(alpha, Re=1e7) for alpha in alpha_vals],label='CD')\n",
    "plt.plot(alpha_vals, [r.CA(alpha, Re=1e7) for alpha in alpha_vals],label='CD')\n",
    "plt.plot(alpha_vals, [r.CN(alpha, Re=1e7) for alpha in alpha_vals],label='CN')\n",
    "plt.xlabel('alpha (deg)')\n",
    "plt.ylabel('CD or CA or CN')\n",
    "plt.grid()\n",
    "\n",
    "\n",
    "plt.legend()"
   ]
  },
  {
   "cell_type": "code",
   "execution_count": 57,
   "metadata": {},
   "outputs": [
    {
     "data": {
      "text/html": [
       "\\[0.6821937338118211\\ dimensionless\\]"
      ],
      "text/latex": [
       "$0.6821937338118211\\ dimensionless$"
      ],
      "text/plain": [
       "0.6821937338118211 <Unit('dimensionless')>"
      ]
     },
     "execution_count": 57,
     "metadata": {},
     "output_type": "execute_result"
    }
   ],
   "source": [
    "r.CD(alpha=0*ureg.degree, Re=10e4, Mach=0.5)"
   ]
  },
  {
   "cell_type": "code",
   "execution_count": 58,
   "metadata": {},
   "outputs": [
    {
     "data": {
      "text/plain": [
       "<matplotlib.legend.Legend at 0x1122e6160>"
      ]
     },
     "execution_count": 58,
     "metadata": {},
     "output_type": "execute_result"
    },
    {
     "data": {
      "image/png": "[encoded data removed]",
      "text/plain": [
       "<Figure size 432x288 with 1 Axes>"
      ]
     },
     "metadata": {
      "needs_background": "light"
     },
     "output_type": "display_data"
    }
   ],
   "source": [
    "Ma_vals = np.linspace(0, 2)\n",
    "Re=1e8\n",
    "plt.plot(Ma_vals, [r.CD(alpha=0*ureg.degree, Re=Re, Mach=Ma) for Ma in Ma_vals], label='α = 0 degree')\n",
    "plt.plot(Ma_vals, [r.CD(alpha=2*ureg.degree, Re=Re, Mach=Ma) for Ma in Ma_vals], label='α = 2 degree')\n",
    "plt.plot(Ma_vals, [r.CD(alpha=5*ureg.degree, Re=Re, Mach=Ma) for Ma in Ma_vals], label='α = 5 degree')\n",
    "plt.grid()\n",
    "plt.xlabel(\"Ma\")\n",
    "plt.ylabel(\"CD of Rocket\")\n",
    "plt.legend()"
   ]
  },
  {
   "cell_type": "code",
   "execution_count": null,
   "metadata": {},
   "outputs": [],
   "source": []
  },
  {
   "cell_type": "code",
   "execution_count": null,
   "metadata": {},
   "outputs": [],
   "source": []
  },
  {
   "cell_type": "code",
   "execution_count": null,
   "metadata": {},
   "outputs": [],
   "source": []
  },
  {
   "cell_type": "code",
   "execution_count": null,
   "metadata": {},
   "outputs": [],
   "source": []
  },
  {
   "cell_type": "code",
   "execution_count": null,
   "metadata": {},
   "outputs": [],
   "source": []
  }
 ],
 "metadata": {
  "kernelspec": {
   "display_name": "Python 3",
   "language": "python",
   "name": "python3"
  },
  "language_info": {
   "codemirror_mode": {
    "name": "ipython",
    "version": 3
   },
   "file_extension": ".py",
   "mimetype": "text/x-python",
   "name": "python",
   "nbconvert_exporter": "python",
   "pygments_lexer": "ipython3",
   "version": "3.6.7"
  }
 },
 "nbformat": 4,
 "nbformat_minor": 2
}
